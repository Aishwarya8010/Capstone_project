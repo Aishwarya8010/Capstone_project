{
 "cells": [
  {
   "cell_type": "code",
   "execution_count": 3,
   "id": "4fbc24a3",
   "metadata": {},
   "outputs": [],
   "source": [
    "import pandas as pd\n",
    "import numpy as np\n",
    "import seaborn as sns\n",
    "import matplotlib.pyplot as plt\n",
    "from sklearn.linear_model import LinearRegression\n",
    "from sklearn.model_selection import train_test_split"
   ]
  },
  {
   "cell_type": "code",
   "execution_count": 66,
   "id": "c2562049",
   "metadata": {},
   "outputs": [],
   "source": [
    "data = pd.read_csv('complete data1.csv')"
   ]
  },
  {
   "cell_type": "code",
   "execution_count": 67,
   "id": "ed1b7c0c",
   "metadata": {},
   "outputs": [
    {
     "data": {
      "text/html": [
       "<div>\n",
       "<style scoped>\n",
       "    .dataframe tbody tr th:only-of-type {\n",
       "        vertical-align: middle;\n",
       "    }\n",
       "\n",
       "    .dataframe tbody tr th {\n",
       "        vertical-align: top;\n",
       "    }\n",
       "\n",
       "    .dataframe thead th {\n",
       "        text-align: right;\n",
       "    }\n",
       "</style>\n",
       "<table border=\"1\" class=\"dataframe\">\n",
       "  <thead>\n",
       "    <tr style=\"text-align: right;\">\n",
       "      <th></th>\n",
       "      <th>Borough</th>\n",
       "      <th>Neighborhoods</th>\n",
       "      <th>Latitude</th>\n",
       "      <th>Longitude</th>\n",
       "      <th>Population</th>\n",
       "      <th>City</th>\n",
       "      <th>AverageIncome</th>\n",
       "    </tr>\n",
       "  </thead>\n",
       "  <tbody>\n",
       "    <tr>\n",
       "      <th>0</th>\n",
       "      <td>Central</td>\n",
       "      <td>Domlur</td>\n",
       "      <td>12.972442</td>\n",
       "      <td>77.580643</td>\n",
       "      <td>866377</td>\n",
       "      <td>Bangalore</td>\n",
       "      <td>18944.099790</td>\n",
       "    </tr>\n",
       "    <tr>\n",
       "      <th>1</th>\n",
       "      <td>Central</td>\n",
       "      <td>Indiranagar</td>\n",
       "      <td>12.960992</td>\n",
       "      <td>77.638726</td>\n",
       "      <td>743186</td>\n",
       "      <td>Bangalore</td>\n",
       "      <td>56837.022200</td>\n",
       "    </tr>\n",
       "    <tr>\n",
       "      <th>2</th>\n",
       "      <td>Central</td>\n",
       "      <td>Jeevanbheemanagar</td>\n",
       "      <td>12.971891</td>\n",
       "      <td>77.641151</td>\n",
       "      <td>474289</td>\n",
       "      <td>Bangalore</td>\n",
       "      <td>41991.817440</td>\n",
       "    </tr>\n",
       "    <tr>\n",
       "      <th>3</th>\n",
       "      <td>Central</td>\n",
       "      <td>Malleswaram</td>\n",
       "      <td>12.962900</td>\n",
       "      <td>77.659500</td>\n",
       "      <td>527874</td>\n",
       "      <td>Bangalore</td>\n",
       "      <td>6667.447632</td>\n",
       "    </tr>\n",
       "    <tr>\n",
       "      <th>4</th>\n",
       "      <td>Central</td>\n",
       "      <td>Pete area</td>\n",
       "      <td>13.003100</td>\n",
       "      <td>77.564300</td>\n",
       "      <td>893629</td>\n",
       "      <td>Bangalore</td>\n",
       "      <td>53270.063890</td>\n",
       "    </tr>\n",
       "  </tbody>\n",
       "</table>\n",
       "</div>"
      ],
      "text/plain": [
       "   Borough      Neighborhoods   Latitude  Longitude  Population       City  \\\n",
       "0  Central             Domlur  12.972442  77.580643      866377  Bangalore   \n",
       "1  Central        Indiranagar  12.960992  77.638726      743186  Bangalore   \n",
       "2  Central  Jeevanbheemanagar  12.971891  77.641151      474289  Bangalore   \n",
       "3  Central        Malleswaram  12.962900  77.659500      527874  Bangalore   \n",
       "4  Central          Pete area  13.003100  77.564300      893629  Bangalore   \n",
       "\n",
       "   AverageIncome  \n",
       "0   18944.099790  \n",
       "1   56837.022200  \n",
       "2   41991.817440  \n",
       "3    6667.447632  \n",
       "4   53270.063890  "
      ]
     },
     "execution_count": 67,
     "metadata": {},
     "output_type": "execute_result"
    }
   ],
   "source": [
    "data.head()"
   ]
  },
  {
   "cell_type": "code",
   "execution_count": 68,
   "id": "0c5d1806",
   "metadata": {},
   "outputs": [
    {
     "data": {
      "text/plain": [
       "Borough           object\n",
       "Neighborhoods     object\n",
       "Latitude         float64\n",
       "Longitude        float64\n",
       "Population         int64\n",
       "City              object\n",
       "AverageIncome    float64\n",
       "dtype: object"
      ]
     },
     "execution_count": 68,
     "metadata": {},
     "output_type": "execute_result"
    }
   ],
   "source": [
    "data.columns\n",
    "data.dtypes"
   ]
  },
  {
   "cell_type": "code",
   "execution_count": 69,
   "id": "31d98674",
   "metadata": {},
   "outputs": [
    {
     "data": {
      "text/plain": [
       "(64, 7)"
      ]
     },
     "execution_count": 69,
     "metadata": {},
     "output_type": "execute_result"
    }
   ],
   "source": [
    "data.shape"
   ]
  },
  {
   "cell_type": "code",
   "execution_count": 70,
   "id": "0986d369",
   "metadata": {},
   "outputs": [
    {
     "name": "stdout",
     "output_type": "stream",
     "text": [
      "['Central' 'Eastern' 'NorthEastern' 'Northern' 'SouthEastern' 'Southern'\n",
      " 'SouthernSuburbs' 'Western']\n",
      "['Bangalore']\n"
     ]
    }
   ],
   "source": [
    "print(data.Borough.unique())\n",
    "print(data.City.unique())"
   ]
  },
  {
   "cell_type": "markdown",
   "id": "5670e69e",
   "metadata": {},
   "source": [
    "# Clustering"
   ]
  },
  {
   "cell_type": "code",
   "execution_count": 71,
   "id": "0f320f9b",
   "metadata": {},
   "outputs": [
    {
     "data": {
      "text/plain": [
       "<Axes: xlabel='Latitude', ylabel='Longitude'>"
      ]
     },
     "execution_count": 71,
     "metadata": {},
     "output_type": "execute_result"
    },
    {
     "data": {
      "image/png": "[encoded data removed]",
      "text/plain": [
       "<Figure size 640x480 with 1 Axes>"
      ]
     },
     "metadata": {},
     "output_type": "display_data"
    }
   ],
   "source": [
    "sns.scatterplot(x = 'Latitude', y = 'Longitude', data = data)"
   ]
  },
  {
   "cell_type": "code",
   "execution_count": 72,
   "id": "4ee4fa86",
   "metadata": {},
   "outputs": [
    {
     "data": {
      "text/html": [
       "<div>\n",
       "<style scoped>\n",
       "    .dataframe tbody tr th:only-of-type {\n",
       "        vertical-align: middle;\n",
       "    }\n",
       "\n",
       "    .dataframe tbody tr th {\n",
       "        vertical-align: top;\n",
       "    }\n",
       "\n",
       "    .dataframe thead th {\n",
       "        text-align: right;\n",
       "    }\n",
       "</style>\n",
       "<table border=\"1\" class=\"dataframe\">\n",
       "  <thead>\n",
       "    <tr style=\"text-align: right;\">\n",
       "      <th></th>\n",
       "      <th>Latitude</th>\n",
       "      <th>Longitude</th>\n",
       "    </tr>\n",
       "  </thead>\n",
       "  <tbody>\n",
       "    <tr>\n",
       "      <th>0</th>\n",
       "      <td>12.972442</td>\n",
       "      <td>77.580643</td>\n",
       "    </tr>\n",
       "    <tr>\n",
       "      <th>1</th>\n",
       "      <td>12.960992</td>\n",
       "      <td>77.638726</td>\n",
       "    </tr>\n",
       "  </tbody>\n",
       "</table>\n",
       "</div>"
      ],
      "text/plain": [
       "    Latitude  Longitude\n",
       "0  12.972442  77.580643\n",
       "1  12.960992  77.638726"
      ]
     },
     "execution_count": 72,
     "metadata": {},
     "output_type": "execute_result"
    }
   ],
   "source": [
    "x = data [['Latitude','Longitude']]\n",
    "x.head(2)"
   ]
  },
  {
   "cell_type": "code",
   "execution_count": 73,
   "id": "9128a1c3",
   "metadata": {},
   "outputs": [],
   "source": [
    "from sklearn.cluster import KMeans"
   ]
  },
  {
   "cell_type": "code",
   "execution_count": 74,
   "id": "9fbbf61c",
   "metadata": {},
   "outputs": [
    {
     "name": "stderr",
     "output_type": "stream",
     "text": [
      "C:\\Users\\Aishwarya21\\.conda\\lib\\site-packages\\sklearn\\cluster\\_kmeans.py:870: FutureWarning: The default value of `n_init` will change from 10 to 'auto' in 1.4. Set the value of `n_init` explicitly to suppress the warning\n",
      "  warnings.warn(\n",
      "C:\\Users\\Aishwarya21\\.conda\\lib\\site-packages\\sklearn\\cluster\\_kmeans.py:1382: UserWarning: KMeans is known to have a memory leak on Windows with MKL, when there are less chunks than available threads. You can avoid it by setting the environment variable OMP_NUM_THREADS=1.\n",
      "  warnings.warn(\n"
     ]
    },
    {
     "data": {
      "text/html": [
       "<style>#sk-container-id-2 {color: black;background-color: white;}#sk-container-id-2 pre{padding: 0;}#sk-container-id-2 div.sk-toggleable {background-color: white;}#sk-container-id-2 label.sk-toggleable__label {cursor: pointer;display: block;width: 100%;margin-bottom: 0;padding: 0.3em;box-sizing: border-box;text-align: center;}#sk-container-id-2 label.sk-toggleable__label-arrow:before {content: \"▸\";float: left;margin-right: 0.25em;color: #696969;}#sk-container-id-2 label.sk-toggleable__label-arrow:hover:before {color: black;}#sk-container-id-2 div.sk-estimator:hover label.sk-toggleable__label-arrow:before {color: black;}#sk-container-id-2 div.sk-toggleable__content {max-height: 0;max-width: 0;overflow: hidden;text-align: left;background-color: #f0f8ff;}#sk-container-id-2 div.sk-toggleable__content pre {margin: 0.2em;color: black;border-radius: 0.25em;background-color: #f0f8ff;}#sk-container-id-2 input.sk-toggleable__control:checked~div.sk-toggleable__content {max-height: 200px;max-width: 100%;overflow: auto;}#sk-container-id-2 input.sk-toggleable__control:checked~label.sk-toggleable__label-arrow:before {content: \"▾\";}#sk-container-id-2 div.sk-estimator input.sk-toggleable__control:checked~label.sk-toggleable__label {background-color: #d4ebff;}#sk-container-id-2 div.sk-label input.sk-toggleable__control:checked~label.sk-toggleable__label {background-color: #d4ebff;}#sk-container-id-2 input.sk-hidden--visually {border: 0;clip: rect(1px 1px 1px 1px);clip: rect(1px, 1px, 1px, 1px);height: 1px;margin: -1px;overflow: hidden;padding: 0;position: absolute;width: 1px;}#sk-container-id-2 div.sk-estimator {font-family: monospace;background-color: #f0f8ff;border: 1px dotted black;border-radius: 0.25em;box-sizing: border-box;margin-bottom: 0.5em;}#sk-container-id-2 div.sk-estimator:hover {background-color: #d4ebff;}#sk-container-id-2 div.sk-parallel-item::after {content: \"\";width: 100%;border-bottom: 1px solid gray;flex-grow: 1;}#sk-container-id-2 div.sk-label:hover label.sk-toggleable__label {background-color: #d4ebff;}#sk-container-id-2 div.sk-serial::before {content: \"\";position: absolute;border-left: 1px solid gray;box-sizing: border-box;top: 0;bottom: 0;left: 50%;z-index: 0;}#sk-container-id-2 div.sk-serial {display: flex;flex-direction: column;align-items: center;background-color: white;padding-right: 0.2em;padding-left: 0.2em;position: relative;}#sk-container-id-2 div.sk-item {position: relative;z-index: 1;}#sk-container-id-2 div.sk-parallel {display: flex;align-items: stretch;justify-content: center;background-color: white;position: relative;}#sk-container-id-2 div.sk-item::before, #sk-container-id-2 div.sk-parallel-item::before {content: \"\";position: absolute;border-left: 1px solid gray;box-sizing: border-box;top: 0;bottom: 0;left: 50%;z-index: -1;}#sk-container-id-2 div.sk-parallel-item {display: flex;flex-direction: column;z-index: 1;position: relative;background-color: white;}#sk-container-id-2 div.sk-parallel-item:first-child::after {align-self: flex-end;width: 50%;}#sk-container-id-2 div.sk-parallel-item:last-child::after {align-self: flex-start;width: 50%;}#sk-container-id-2 div.sk-parallel-item:only-child::after {width: 0;}#sk-container-id-2 div.sk-dashed-wrapped {border: 1px dashed gray;margin: 0 0.4em 0.5em 0.4em;box-sizing: border-box;padding-bottom: 0.4em;background-color: white;}#sk-container-id-2 div.sk-label label {font-family: monospace;font-weight: bold;display: inline-block;line-height: 1.2em;}#sk-container-id-2 div.sk-label-container {text-align: center;}#sk-container-id-2 div.sk-container {/* jupyter's `normalize.less` sets `[hidden] { display: none; }` but bootstrap.min.css set `[hidden] { display: none !important; }` so we also need the `!important` here to be able to override the default hidden behavior on the sphinx rendered scikit-learn.org. See: https://github.com/scikit-learn/scikit-learn/issues/21755 */display: inline-block !important;position: relative;}#sk-container-id-2 div.sk-text-repr-fallback {display: none;}</style><div id=\"sk-container-id-2\" class=\"sk-top-container\"><div class=\"sk-text-repr-fallback\"><pre>KMeans(n_clusters=3)</pre><b>In a Jupyter environment, please rerun this cell to show the HTML representation or trust the notebook. <br />On GitHub, the HTML representation is unable to render, please try loading this page with nbviewer.org.</b></div><div class=\"sk-container\" hidden><div class=\"sk-item\"><div class=\"sk-estimator sk-toggleable\"><input class=\"sk-toggleable__control sk-hidden--visually\" id=\"sk-estimator-id-2\" type=\"checkbox\" checked><label for=\"sk-estimator-id-2\" class=\"sk-toggleable__label sk-toggleable__label-arrow\">KMeans</label><div class=\"sk-toggleable__content\"><pre>KMeans(n_clusters=3)</pre></div></div></div></div></div>"
      ],
      "text/plain": [
       "KMeans(n_clusters=3)"
      ]
     },
     "execution_count": 74,
     "metadata": {},
     "output_type": "execute_result"
    }
   ],
   "source": [
    "cluster = KMeans(n_clusters=3)\n",
    "cluster.fit(x)"
   ]
  },
  {
   "cell_type": "code",
   "execution_count": 75,
   "id": "cd9de7ab",
   "metadata": {},
   "outputs": [
    {
     "data": {
      "text/plain": [
       "(array([2, 0, 0, 0, 2, 2, 2, 2, 2, 2, 0, 2, 0, 0, 0, 0, 0, 0, 0, 0, 0, 0,\n",
       "        0, 0, 0, 0, 2, 2, 2, 2, 2, 2, 2, 2, 1, 1, 1, 1, 1, 1, 1, 1, 1, 1,\n",
       "        1, 1, 1, 1, 1, 1, 1, 1, 1, 1, 1, 2, 2, 1, 2, 2, 2, 2, 1, 2]),\n",
       " 64)"
      ]
     },
     "execution_count": 75,
     "metadata": {},
     "output_type": "execute_result"
    }
   ],
   "source": [
    "p = cluster.predict(x)\n",
    "p,len(p)"
   ]
  },
  {
   "cell_type": "code",
   "execution_count": 76,
   "id": "75ad8e54",
   "metadata": {},
   "outputs": [
    {
     "name": "stderr",
     "output_type": "stream",
     "text": [
      "C:\\Users\\Aishwarya21\\.conda\\lib\\site-packages\\sklearn\\cluster\\_kmeans.py:870: FutureWarning: The default value of `n_init` will change from 10 to 'auto' in 1.4. Set the value of `n_init` explicitly to suppress the warning\n",
      "  warnings.warn(\n",
      "C:\\Users\\Aishwarya21\\.conda\\lib\\site-packages\\sklearn\\cluster\\_kmeans.py:1382: UserWarning: KMeans is known to have a memory leak on Windows with MKL, when there are less chunks than available threads. You can avoid it by setting the environment variable OMP_NUM_THREADS=1.\n",
      "  warnings.warn(\n",
      "C:\\Users\\Aishwarya21\\.conda\\lib\\site-packages\\sklearn\\cluster\\_kmeans.py:870: FutureWarning: The default value of `n_init` will change from 10 to 'auto' in 1.4. Set the value of `n_init` explicitly to suppress the warning\n",
      "  warnings.warn(\n",
      "C:\\Users\\Aishwarya21\\.conda\\lib\\site-packages\\sklearn\\cluster\\_kmeans.py:1382: UserWarning: KMeans is known to have a memory leak on Windows with MKL, when there are less chunks than available threads. You can avoid it by setting the environment variable OMP_NUM_THREADS=1.\n",
      "  warnings.warn(\n",
      "C:\\Users\\Aishwarya21\\.conda\\lib\\site-packages\\sklearn\\cluster\\_kmeans.py:870: FutureWarning: The default value of `n_init` will change from 10 to 'auto' in 1.4. Set the value of `n_init` explicitly to suppress the warning\n",
      "  warnings.warn(\n",
      "C:\\Users\\Aishwarya21\\.conda\\lib\\site-packages\\sklearn\\cluster\\_kmeans.py:1382: UserWarning: KMeans is known to have a memory leak on Windows with MKL, when there are less chunks than available threads. You can avoid it by setting the environment variable OMP_NUM_THREADS=1.\n",
      "  warnings.warn(\n",
      "C:\\Users\\Aishwarya21\\.conda\\lib\\site-packages\\sklearn\\cluster\\_kmeans.py:870: FutureWarning: The default value of `n_init` will change from 10 to 'auto' in 1.4. Set the value of `n_init` explicitly to suppress the warning\n",
      "  warnings.warn(\n",
      "C:\\Users\\Aishwarya21\\.conda\\lib\\site-packages\\sklearn\\cluster\\_kmeans.py:1382: UserWarning: KMeans is known to have a memory leak on Windows with MKL, when there are less chunks than available threads. You can avoid it by setting the environment variable OMP_NUM_THREADS=1.\n",
      "  warnings.warn(\n",
      "C:\\Users\\Aishwarya21\\.conda\\lib\\site-packages\\sklearn\\cluster\\_kmeans.py:870: FutureWarning: The default value of `n_init` will change from 10 to 'auto' in 1.4. Set the value of `n_init` explicitly to suppress the warning\n",
      "  warnings.warn(\n",
      "C:\\Users\\Aishwarya21\\.conda\\lib\\site-packages\\sklearn\\cluster\\_kmeans.py:1382: UserWarning: KMeans is known to have a memory leak on Windows with MKL, when there are less chunks than available threads. You can avoid it by setting the environment variable OMP_NUM_THREADS=1.\n",
      "  warnings.warn(\n",
      "C:\\Users\\Aishwarya21\\.conda\\lib\\site-packages\\sklearn\\cluster\\_kmeans.py:870: FutureWarning: The default value of `n_init` will change from 10 to 'auto' in 1.4. Set the value of `n_init` explicitly to suppress the warning\n",
      "  warnings.warn(\n",
      "C:\\Users\\Aishwarya21\\.conda\\lib\\site-packages\\sklearn\\cluster\\_kmeans.py:1382: UserWarning: KMeans is known to have a memory leak on Windows with MKL, when there are less chunks than available threads. You can avoid it by setting the environment variable OMP_NUM_THREADS=1.\n",
      "  warnings.warn(\n",
      "C:\\Users\\Aishwarya21\\.conda\\lib\\site-packages\\sklearn\\cluster\\_kmeans.py:870: FutureWarning: The default value of `n_init` will change from 10 to 'auto' in 1.4. Set the value of `n_init` explicitly to suppress the warning\n",
      "  warnings.warn(\n",
      "C:\\Users\\Aishwarya21\\.conda\\lib\\site-packages\\sklearn\\cluster\\_kmeans.py:1382: UserWarning: KMeans is known to have a memory leak on Windows with MKL, when there are less chunks than available threads. You can avoid it by setting the environment variable OMP_NUM_THREADS=1.\n",
      "  warnings.warn(\n",
      "C:\\Users\\Aishwarya21\\.conda\\lib\\site-packages\\sklearn\\cluster\\_kmeans.py:870: FutureWarning: The default value of `n_init` will change from 10 to 'auto' in 1.4. Set the value of `n_init` explicitly to suppress the warning\n",
      "  warnings.warn(\n",
      "C:\\Users\\Aishwarya21\\.conda\\lib\\site-packages\\sklearn\\cluster\\_kmeans.py:1382: UserWarning: KMeans is known to have a memory leak on Windows with MKL, when there are less chunks than available threads. You can avoid it by setting the environment variable OMP_NUM_THREADS=1.\n",
      "  warnings.warn(\n",
      "C:\\Users\\Aishwarya21\\.conda\\lib\\site-packages\\sklearn\\cluster\\_kmeans.py:870: FutureWarning: The default value of `n_init` will change from 10 to 'auto' in 1.4. Set the value of `n_init` explicitly to suppress the warning\n",
      "  warnings.warn(\n",
      "C:\\Users\\Aishwarya21\\.conda\\lib\\site-packages\\sklearn\\cluster\\_kmeans.py:1382: UserWarning: KMeans is known to have a memory leak on Windows with MKL, when there are less chunks than available threads. You can avoid it by setting the environment variable OMP_NUM_THREADS=1.\n",
      "  warnings.warn(\n",
      "C:\\Users\\Aishwarya21\\.conda\\lib\\site-packages\\sklearn\\cluster\\_kmeans.py:870: FutureWarning: The default value of `n_init` will change from 10 to 'auto' in 1.4. Set the value of `n_init` explicitly to suppress the warning\n",
      "  warnings.warn(\n",
      "C:\\Users\\Aishwarya21\\.conda\\lib\\site-packages\\sklearn\\cluster\\_kmeans.py:1382: UserWarning: KMeans is known to have a memory leak on Windows with MKL, when there are less chunks than available threads. You can avoid it by setting the environment variable OMP_NUM_THREADS=1.\n",
      "  warnings.warn(\n"
     ]
    }
   ],
   "source": [
    "wcss = []\n",
    "for i in range (1,11):\n",
    "    km = KMeans (n_clusters= i,max_iter=200)\n",
    "    km.fit(x)\n",
    "    wcss.append(km.inertia_)                             #### calculates the squared error\n",
    "    "
   ]
  },
  {
   "cell_type": "code",
   "execution_count": 77,
   "id": "a8ecdf55",
   "metadata": {},
   "outputs": [
    {
     "data": {
      "text/plain": [
       "[0.4490334774002419,\n",
       " 0.28352958634837244,\n",
       " 0.1665624429035492,\n",
       " 0.12200944232316069,\n",
       " 0.10260404861121863,\n",
       " 0.08171367198183412,\n",
       " 0.06851660045734109,\n",
       " 0.0589428331591918,\n",
       " 0.051688083389557105,\n",
       " 0.04523240164208784]"
      ]
     },
     "execution_count": 77,
     "metadata": {},
     "output_type": "execute_result"
    }
   ],
   "source": [
    "wcss"
   ]
  },
  {
   "cell_type": "code",
   "execution_count": 78,
   "id": "aa37241e",
   "metadata": {},
   "outputs": [
    {
     "data": {
      "image/png": "[encoded data removed]",
      "text/plain": [
       "<Figure size 640x480 with 1 Axes>"
      ]
     },
     "metadata": {},
     "output_type": "display_data"
    }
   ],
   "source": [
    "plt.plot(range(1,11),wcss)\n",
    "plt.show()"
   ]
  },
  {
   "cell_type": "code",
   "execution_count": 79,
   "id": "237014c9",
   "metadata": {},
   "outputs": [
    {
     "name": "stderr",
     "output_type": "stream",
     "text": [
      "C:\\Users\\Aishwarya21\\.conda\\lib\\site-packages\\sklearn\\cluster\\_kmeans.py:870: FutureWarning: The default value of `n_init` will change from 10 to 'auto' in 1.4. Set the value of `n_init` explicitly to suppress the warning\n",
      "  warnings.warn(\n",
      "C:\\Users\\Aishwarya21\\.conda\\lib\\site-packages\\sklearn\\cluster\\_kmeans.py:1382: UserWarning: KMeans is known to have a memory leak on Windows with MKL, when there are less chunks than available threads. You can avoid it by setting the environment variable OMP_NUM_THREADS=1.\n",
      "  warnings.warn(\n"
     ]
    },
    {
     "data": {
      "text/plain": [
       "(array([1, 0, 0, 0, 1, 2, 1, 1, 1, 0, 0, 1, 3, 0, 3, 3, 3, 3, 3, 3, 0, 0,\n",
       "        0, 0, 0, 0, 1, 1, 1, 1, 1, 1, 1, 1, 4, 4, 4, 4, 4, 4, 4, 2, 2, 2,\n",
       "        4, 4, 2, 2, 2, 4, 4, 4, 4, 4, 4, 1, 1, 2, 1, 2, 1, 2, 2, 2]),\n",
       " 64)"
      ]
     },
     "execution_count": 79,
     "metadata": {},
     "output_type": "execute_result"
    }
   ],
   "source": [
    "cluster = KMeans(n_clusters=5)\n",
    "cluster.fit(x)\n",
    "p1 = cluster.predict(x)\n",
    "p1,len(p1)"
   ]
  },
  {
   "cell_type": "code",
   "execution_count": 80,
   "id": "4bfe2870",
   "metadata": {},
   "outputs": [
    {
     "data": {
      "text/html": [
       "<div>\n",
       "<style scoped>\n",
       "    .dataframe tbody tr th:only-of-type {\n",
       "        vertical-align: middle;\n",
       "    }\n",
       "\n",
       "    .dataframe tbody tr th {\n",
       "        vertical-align: top;\n",
       "    }\n",
       "\n",
       "    .dataframe thead th {\n",
       "        text-align: right;\n",
       "    }\n",
       "</style>\n",
       "<table border=\"1\" class=\"dataframe\">\n",
       "  <thead>\n",
       "    <tr style=\"text-align: right;\">\n",
       "      <th></th>\n",
       "      <th>Borough</th>\n",
       "      <th>Neighborhoods</th>\n",
       "      <th>Latitude</th>\n",
       "      <th>Longitude</th>\n",
       "      <th>Population</th>\n",
       "      <th>City</th>\n",
       "      <th>AverageIncome</th>\n",
       "    </tr>\n",
       "  </thead>\n",
       "  <tbody>\n",
       "    <tr>\n",
       "      <th>0</th>\n",
       "      <td>Central</td>\n",
       "      <td>Domlur</td>\n",
       "      <td>12.972442</td>\n",
       "      <td>77.580643</td>\n",
       "      <td>866377</td>\n",
       "      <td>Bangalore</td>\n",
       "      <td>18944.099790</td>\n",
       "    </tr>\n",
       "    <tr>\n",
       "      <th>1</th>\n",
       "      <td>Central</td>\n",
       "      <td>Indiranagar</td>\n",
       "      <td>12.960992</td>\n",
       "      <td>77.638726</td>\n",
       "      <td>743186</td>\n",
       "      <td>Bangalore</td>\n",
       "      <td>56837.022200</td>\n",
       "    </tr>\n",
       "    <tr>\n",
       "      <th>2</th>\n",
       "      <td>Central</td>\n",
       "      <td>Jeevanbheemanagar</td>\n",
       "      <td>12.971891</td>\n",
       "      <td>77.641151</td>\n",
       "      <td>474289</td>\n",
       "      <td>Bangalore</td>\n",
       "      <td>41991.817440</td>\n",
       "    </tr>\n",
       "    <tr>\n",
       "      <th>3</th>\n",
       "      <td>Central</td>\n",
       "      <td>Malleswaram</td>\n",
       "      <td>12.962900</td>\n",
       "      <td>77.659500</td>\n",
       "      <td>527874</td>\n",
       "      <td>Bangalore</td>\n",
       "      <td>6667.447632</td>\n",
       "    </tr>\n",
       "    <tr>\n",
       "      <th>4</th>\n",
       "      <td>Central</td>\n",
       "      <td>Pete area</td>\n",
       "      <td>13.003100</td>\n",
       "      <td>77.564300</td>\n",
       "      <td>893629</td>\n",
       "      <td>Bangalore</td>\n",
       "      <td>53270.063890</td>\n",
       "    </tr>\n",
       "    <tr>\n",
       "      <th>...</th>\n",
       "      <td>...</td>\n",
       "      <td>...</td>\n",
       "      <td>...</td>\n",
       "      <td>...</td>\n",
       "      <td>...</td>\n",
       "      <td>...</td>\n",
       "      <td>...</td>\n",
       "    </tr>\n",
       "    <tr>\n",
       "      <th>59</th>\n",
       "      <td>Western</td>\n",
       "      <td>Nandini Layout</td>\n",
       "      <td>12.959900</td>\n",
       "      <td>77.508300</td>\n",
       "      <td>623843</td>\n",
       "      <td>Bangalore</td>\n",
       "      <td>38627.411760</td>\n",
       "    </tr>\n",
       "    <tr>\n",
       "      <th>60</th>\n",
       "      <td>Western</td>\n",
       "      <td>Nayandahalli</td>\n",
       "      <td>13.016000</td>\n",
       "      <td>77.533800</td>\n",
       "      <td>638555</td>\n",
       "      <td>Bangalore</td>\n",
       "      <td>32490.969170</td>\n",
       "    </tr>\n",
       "    <tr>\n",
       "      <th>61</th>\n",
       "      <td>Western</td>\n",
       "      <td>Rajarajeshwari Nagar</td>\n",
       "      <td>12.941100</td>\n",
       "      <td>77.524800</td>\n",
       "      <td>474920</td>\n",
       "      <td>Bangalore</td>\n",
       "      <td>46826.803890</td>\n",
       "    </tr>\n",
       "    <tr>\n",
       "      <th>62</th>\n",
       "      <td>Western</td>\n",
       "      <td>Vijayanagar</td>\n",
       "      <td>12.924200</td>\n",
       "      <td>77.519100</td>\n",
       "      <td>516920</td>\n",
       "      <td>Bangalore</td>\n",
       "      <td>12533.785280</td>\n",
       "    </tr>\n",
       "    <tr>\n",
       "      <th>63</th>\n",
       "      <td>Western</td>\n",
       "      <td>Vijayanagar</td>\n",
       "      <td>12.971900</td>\n",
       "      <td>77.529900</td>\n",
       "      <td>791549</td>\n",
       "      <td>Bangalore</td>\n",
       "      <td>51966.782270</td>\n",
       "    </tr>\n",
       "  </tbody>\n",
       "</table>\n",
       "<p>64 rows × 7 columns</p>\n",
       "</div>"
      ],
      "text/plain": [
       "    Borough         Neighborhoods   Latitude  Longitude  Population  \\\n",
       "0   Central                Domlur  12.972442  77.580643      866377   \n",
       "1   Central           Indiranagar  12.960992  77.638726      743186   \n",
       "2   Central     Jeevanbheemanagar  12.971891  77.641151      474289   \n",
       "3   Central           Malleswaram  12.962900  77.659500      527874   \n",
       "4   Central             Pete area  13.003100  77.564300      893629   \n",
       "..      ...                   ...        ...        ...         ...   \n",
       "59  Western        Nandini Layout  12.959900  77.508300      623843   \n",
       "60  Western          Nayandahalli  13.016000  77.533800      638555   \n",
       "61  Western  Rajarajeshwari Nagar  12.941100  77.524800      474920   \n",
       "62  Western           Vijayanagar  12.924200  77.519100      516920   \n",
       "63  Western           Vijayanagar  12.971900  77.529900      791549   \n",
       "\n",
       "         City  AverageIncome  \n",
       "0   Bangalore   18944.099790  \n",
       "1   Bangalore   56837.022200  \n",
       "2   Bangalore   41991.817440  \n",
       "3   Bangalore    6667.447632  \n",
       "4   Bangalore   53270.063890  \n",
       "..        ...            ...  \n",
       "59  Bangalore   38627.411760  \n",
       "60  Bangalore   32490.969170  \n",
       "61  Bangalore   46826.803890  \n",
       "62  Bangalore   12533.785280  \n",
       "63  Bangalore   51966.782270  \n",
       "\n",
       "[64 rows x 7 columns]"
      ]
     },
     "execution_count": 80,
     "metadata": {},
     "output_type": "execute_result"
    }
   ],
   "source": [
    "data"
   ]
  },
  {
   "cell_type": "code",
   "execution_count": 81,
   "id": "5e58847a",
   "metadata": {},
   "outputs": [
    {
     "name": "stdout",
     "output_type": "stream",
     "text": [
      "   Borough      Neighborhoods   Latitude  Longitude  Population       City  \\\n",
      "0  Central             Domlur  12.972442  77.580643      866377  Bangalore   \n",
      "1  Central        Indiranagar  12.960992  77.638726      743186  Bangalore   \n",
      "2  Central  Jeevanbheemanagar  12.971891  77.641151      474289  Bangalore   \n",
      "3  Central        Malleswaram  12.962900  77.659500      527874  Bangalore   \n",
      "4  Central          Pete area  13.003100  77.564300      893629  Bangalore   \n",
      "\n",
      "   AverageIncome  cluster  \n",
      "0   18944.099790        1  \n",
      "1   56837.022200        0  \n",
      "2   41991.817440        0  \n",
      "3    6667.447632        0  \n",
      "4   53270.063890        1  \n"
     ]
    }
   ],
   "source": [
    "data['cluster']= p1\n",
    "print(data.head())"
   ]
  },
  {
   "cell_type": "code",
   "execution_count": 82,
   "id": "c4d96710",
   "metadata": {},
   "outputs": [
    {
     "data": {
      "text/plain": [
       "<Axes: xlabel='Latitude', ylabel='Longitude'>"
      ]
     },
     "execution_count": 82,
     "metadata": {},
     "output_type": "execute_result"
    },
    {
     "data": {
      "image/png": "[encoded data removed]",
      "text/plain": [
       "<Figure size 640x480 with 1 Axes>"
      ]
     },
     "metadata": {},
     "output_type": "display_data"
    }
   ],
   "source": [
    "sns.scatterplot(x= 'Latitude', y = 'Longitude',hue= 'cluster',data = data, palette = 'summer')"
   ]
  },
  {
   "cell_type": "code",
   "execution_count": 83,
   "id": "5ba131ed",
   "metadata": {},
   "outputs": [
    {
     "data": {
      "text/html": [
       "<div>\n",
       "<style scoped>\n",
       "    .dataframe tbody tr th:only-of-type {\n",
       "        vertical-align: middle;\n",
       "    }\n",
       "\n",
       "    .dataframe tbody tr th {\n",
       "        vertical-align: top;\n",
       "    }\n",
       "\n",
       "    .dataframe thead th {\n",
       "        text-align: right;\n",
       "    }\n",
       "</style>\n",
       "<table border=\"1\" class=\"dataframe\">\n",
       "  <thead>\n",
       "    <tr style=\"text-align: right;\">\n",
       "      <th></th>\n",
       "      <th>Borough</th>\n",
       "      <th>Neighborhoods</th>\n",
       "      <th>Latitude</th>\n",
       "      <th>Longitude</th>\n",
       "      <th>Population</th>\n",
       "      <th>City</th>\n",
       "      <th>AverageIncome</th>\n",
       "      <th>cluster</th>\n",
       "    </tr>\n",
       "  </thead>\n",
       "  <tbody>\n",
       "    <tr>\n",
       "      <th>0</th>\n",
       "      <td>Central</td>\n",
       "      <td>Domlur</td>\n",
       "      <td>12.972442</td>\n",
       "      <td>77.580643</td>\n",
       "      <td>866377</td>\n",
       "      <td>Bangalore</td>\n",
       "      <td>18944.099790</td>\n",
       "      <td>1</td>\n",
       "    </tr>\n",
       "    <tr>\n",
       "      <th>4</th>\n",
       "      <td>Central</td>\n",
       "      <td>Pete area</td>\n",
       "      <td>13.003100</td>\n",
       "      <td>77.564300</td>\n",
       "      <td>893629</td>\n",
       "      <td>Bangalore</td>\n",
       "      <td>53270.063890</td>\n",
       "      <td>1</td>\n",
       "    </tr>\n",
       "    <tr>\n",
       "      <th>6</th>\n",
       "      <td>Central</td>\n",
       "      <td>Sadashivanagar</td>\n",
       "      <td>12.990100</td>\n",
       "      <td>77.552500</td>\n",
       "      <td>981362</td>\n",
       "      <td>Bangalore</td>\n",
       "      <td>60967.535870</td>\n",
       "      <td>1</td>\n",
       "    </tr>\n",
       "    <tr>\n",
       "      <th>7</th>\n",
       "      <td>Central</td>\n",
       "      <td>Seshadripuram</td>\n",
       "      <td>13.006800</td>\n",
       "      <td>77.581300</td>\n",
       "      <td>662625</td>\n",
       "      <td>Bangalore</td>\n",
       "      <td>59943.541560</td>\n",
       "      <td>1</td>\n",
       "    </tr>\n",
       "    <tr>\n",
       "      <th>8</th>\n",
       "      <td>Central</td>\n",
       "      <td>Shivajinagar</td>\n",
       "      <td>12.993500</td>\n",
       "      <td>77.578700</td>\n",
       "      <td>396862</td>\n",
       "      <td>Bangalore</td>\n",
       "      <td>58407.090340</td>\n",
       "      <td>1</td>\n",
       "    </tr>\n",
       "    <tr>\n",
       "      <th>11</th>\n",
       "      <td>Central</td>\n",
       "      <td>Bellandur</td>\n",
       "      <td>12.991100</td>\n",
       "      <td>77.592000</td>\n",
       "      <td>942711</td>\n",
       "      <td>Bangalore</td>\n",
       "      <td>26168.448090</td>\n",
       "      <td>1</td>\n",
       "    </tr>\n",
       "    <tr>\n",
       "      <th>26</th>\n",
       "      <td>Northern</td>\n",
       "      <td>Jalahalli</td>\n",
       "      <td>13.035800</td>\n",
       "      <td>77.597000</td>\n",
       "      <td>926976</td>\n",
       "      <td>Bangalore</td>\n",
       "      <td>39022.694140</td>\n",
       "      <td>1</td>\n",
       "    </tr>\n",
       "    <tr>\n",
       "      <th>27</th>\n",
       "      <td>Northern</td>\n",
       "      <td>Mathikere</td>\n",
       "      <td>13.052800</td>\n",
       "      <td>77.541900</td>\n",
       "      <td>569724</td>\n",
       "      <td>Bangalore</td>\n",
       "      <td>9836.954154</td>\n",
       "      <td>1</td>\n",
       "    </tr>\n",
       "    <tr>\n",
       "      <th>28</th>\n",
       "      <td>Northern</td>\n",
       "      <td>Peenya</td>\n",
       "      <td>13.033400</td>\n",
       "      <td>77.564000</td>\n",
       "      <td>757626</td>\n",
       "      <td>Bangalore</td>\n",
       "      <td>61046.854720</td>\n",
       "      <td>1</td>\n",
       "    </tr>\n",
       "    <tr>\n",
       "      <th>29</th>\n",
       "      <td>Northern</td>\n",
       "      <td>R. T. Nagar</td>\n",
       "      <td>13.028500</td>\n",
       "      <td>77.519700</td>\n",
       "      <td>661647</td>\n",
       "      <td>Bangalore</td>\n",
       "      <td>24706.335040</td>\n",
       "      <td>1</td>\n",
       "    </tr>\n",
       "    <tr>\n",
       "      <th>30</th>\n",
       "      <td>Northern</td>\n",
       "      <td>Vidyaranyapura</td>\n",
       "      <td>13.019600</td>\n",
       "      <td>77.596800</td>\n",
       "      <td>241187</td>\n",
       "      <td>Bangalore</td>\n",
       "      <td>64644.480990</td>\n",
       "      <td>1</td>\n",
       "    </tr>\n",
       "    <tr>\n",
       "      <th>31</th>\n",
       "      <td>Northern</td>\n",
       "      <td>Yelahanka</td>\n",
       "      <td>13.085800</td>\n",
       "      <td>77.556100</td>\n",
       "      <td>704566</td>\n",
       "      <td>Bangalore</td>\n",
       "      <td>31889.365790</td>\n",
       "      <td>1</td>\n",
       "    </tr>\n",
       "    <tr>\n",
       "      <th>32</th>\n",
       "      <td>Northern</td>\n",
       "      <td>Yeshwanthpur</td>\n",
       "      <td>13.100500</td>\n",
       "      <td>77.594000</td>\n",
       "      <td>15846</td>\n",
       "      <td>Bangalore</td>\n",
       "      <td>5269.688407</td>\n",
       "      <td>1</td>\n",
       "    </tr>\n",
       "    <tr>\n",
       "      <th>33</th>\n",
       "      <td>Northern</td>\n",
       "      <td>Bommanahalli</td>\n",
       "      <td>13.028000</td>\n",
       "      <td>77.540900</td>\n",
       "      <td>333688</td>\n",
       "      <td>Bangalore</td>\n",
       "      <td>27803.161570</td>\n",
       "      <td>1</td>\n",
       "    </tr>\n",
       "    <tr>\n",
       "      <th>55</th>\n",
       "      <td>Western</td>\n",
       "      <td>Kamakshipalya</td>\n",
       "      <td>12.988600</td>\n",
       "      <td>77.538300</td>\n",
       "      <td>628910</td>\n",
       "      <td>Bangalore</td>\n",
       "      <td>41177.478490</td>\n",
       "      <td>1</td>\n",
       "    </tr>\n",
       "    <tr>\n",
       "      <th>56</th>\n",
       "      <td>Western</td>\n",
       "      <td>Kengeri</td>\n",
       "      <td>12.988700</td>\n",
       "      <td>77.527100</td>\n",
       "      <td>968497</td>\n",
       "      <td>Bangalore</td>\n",
       "      <td>39132.402990</td>\n",
       "      <td>1</td>\n",
       "    </tr>\n",
       "    <tr>\n",
       "      <th>58</th>\n",
       "      <td>Western</td>\n",
       "      <td>Nagarbhavi</td>\n",
       "      <td>13.014600</td>\n",
       "      <td>77.551400</td>\n",
       "      <td>306403</td>\n",
       "      <td>Bangalore</td>\n",
       "      <td>8416.293069</td>\n",
       "      <td>1</td>\n",
       "    </tr>\n",
       "    <tr>\n",
       "      <th>60</th>\n",
       "      <td>Western</td>\n",
       "      <td>Nayandahalli</td>\n",
       "      <td>13.016000</td>\n",
       "      <td>77.533800</td>\n",
       "      <td>638555</td>\n",
       "      <td>Bangalore</td>\n",
       "      <td>32490.969170</td>\n",
       "      <td>1</td>\n",
       "    </tr>\n",
       "  </tbody>\n",
       "</table>\n",
       "</div>"
      ],
      "text/plain": [
       "     Borough   Neighborhoods   Latitude  Longitude  Population       City  \\\n",
       "0    Central          Domlur  12.972442  77.580643      866377  Bangalore   \n",
       "4    Central       Pete area  13.003100  77.564300      893629  Bangalore   \n",
       "6    Central  Sadashivanagar  12.990100  77.552500      981362  Bangalore   \n",
       "7    Central   Seshadripuram  13.006800  77.581300      662625  Bangalore   \n",
       "8    Central    Shivajinagar  12.993500  77.578700      396862  Bangalore   \n",
       "11   Central       Bellandur  12.991100  77.592000      942711  Bangalore   \n",
       "26  Northern       Jalahalli  13.035800  77.597000      926976  Bangalore   \n",
       "27  Northern       Mathikere  13.052800  77.541900      569724  Bangalore   \n",
       "28  Northern          Peenya  13.033400  77.564000      757626  Bangalore   \n",
       "29  Northern     R. T. Nagar  13.028500  77.519700      661647  Bangalore   \n",
       "30  Northern  Vidyaranyapura  13.019600  77.596800      241187  Bangalore   \n",
       "31  Northern       Yelahanka  13.085800  77.556100      704566  Bangalore   \n",
       "32  Northern    Yeshwanthpur  13.100500  77.594000       15846  Bangalore   \n",
       "33  Northern    Bommanahalli  13.028000  77.540900      333688  Bangalore   \n",
       "55   Western   Kamakshipalya  12.988600  77.538300      628910  Bangalore   \n",
       "56   Western         Kengeri  12.988700  77.527100      968497  Bangalore   \n",
       "58   Western      Nagarbhavi  13.014600  77.551400      306403  Bangalore   \n",
       "60   Western    Nayandahalli  13.016000  77.533800      638555  Bangalore   \n",
       "\n",
       "    AverageIncome  cluster  \n",
       "0    18944.099790        1  \n",
       "4    53270.063890        1  \n",
       "6    60967.535870        1  \n",
       "7    59943.541560        1  \n",
       "8    58407.090340        1  \n",
       "11   26168.448090        1  \n",
       "26   39022.694140        1  \n",
       "27    9836.954154        1  \n",
       "28   61046.854720        1  \n",
       "29   24706.335040        1  \n",
       "30   64644.480990        1  \n",
       "31   31889.365790        1  \n",
       "32    5269.688407        1  \n",
       "33   27803.161570        1  \n",
       "55   41177.478490        1  \n",
       "56   39132.402990        1  \n",
       "58    8416.293069        1  \n",
       "60   32490.969170        1  "
      ]
     },
     "execution_count": 83,
     "metadata": {},
     "output_type": "execute_result"
    }
   ],
   "source": [
    "data[data['cluster']==1]"
   ]
  },
  {
   "cell_type": "code",
   "execution_count": 84,
   "id": "f58ec835",
   "metadata": {},
   "outputs": [
    {
     "name": "stdout",
     "output_type": "stream",
     "text": [
      "1    28.1250\n",
      "4    23.4375\n",
      "0    18.7500\n",
      "2    18.7500\n",
      "3    10.9375\n",
      "Name: cluster, dtype: float64\n"
     ]
    }
   ],
   "source": [
    "print(data['cluster'].value_counts(normalize=True)*100)"
   ]
  },
  {
   "cell_type": "markdown",
   "id": "57461395",
   "metadata": {},
   "source": [
    "# The Silhouette Score - Measure how similar a point is to its own cluster compared to other cluster.\n",
    "The range of silhouette value is between +1 and -1. A high value is desireable and indicates that the point is placed in the correct cluster."
   ]
  },
  {
   "cell_type": "code",
   "execution_count": 85,
   "id": "4b6574e0",
   "metadata": {},
   "outputs": [],
   "source": [
    "from sklearn.metrics import silhouette_score"
   ]
  },
  {
   "cell_type": "code",
   "execution_count": 86,
   "id": "2035cdf7",
   "metadata": {},
   "outputs": [
    {
     "data": {
      "text/plain": [
       "0.34597654556786556"
      ]
     },
     "execution_count": 86,
     "metadata": {},
     "output_type": "execute_result"
    }
   ],
   "source": [
    "labels = cluster.labels_\n",
    "silhouette_score(x, labels,metric='euclidean')"
   ]
  },
  {
   "cell_type": "code",
   "execution_count": 87,
   "id": "b9478ae0",
   "metadata": {},
   "outputs": [],
   "source": [
    "from sklearn.preprocessing import StandardScaler, MinMaxScaler"
   ]
  },
  {
   "cell_type": "code",
   "execution_count": 88,
   "id": "a43913c7",
   "metadata": {},
   "outputs": [
    {
     "data": {
      "text/plain": [
       "array([[ 0.17090975, -0.35569584],\n",
       "       [-0.02280381,  0.62297735],\n",
       "       [ 0.16158805,  0.66384456],\n",
       "       [ 0.00948038,  0.97301933],\n",
       "       [ 0.68957477, -0.63107015],\n",
       "       [ 0.00609682, -0.43729883],\n",
       "       [ 0.46964374, -0.82989636],\n",
       "       [ 0.75217052, -0.3446256 ],\n",
       "       [ 0.52716416, -0.38843476],\n",
       "       [ 0.39520555,  0.06650658],\n",
       "       [ 0.32753447,  0.45236424],\n",
       "       [ 0.48656151, -0.16433403],\n",
       "       [-0.61478537,  1.25440898],\n",
       "       [ 0.391822  ,  1.04715792],\n",
       "       [ 0.50517106,  1.92334125],\n",
       "       [ 0.70480076,  1.44986526],\n",
       "       [ 0.48994507,  1.44312538],\n",
       "       [-0.05311538,  1.61162218],\n",
       "       [-0.39654613,  2.34963814],\n",
       "       [ 0.12621299,  2.49623035],\n",
       "       [ 0.84014293,  0.76408331],\n",
       "       [ 1.27492964,  0.45573417],\n",
       "       [ 1.06176573,  0.97638927],\n",
       "       [ 0.90612223,  0.60906626],\n",
       "       [ 0.77923895,  0.4860636 ],\n",
       "       [ 0.94841666,  1.28642337],\n",
       "       [ 1.24278587, -0.08008563],\n",
       "       [ 1.53038798, -1.00850296],\n",
       "       [ 1.20218322, -0.63612505],\n",
       "       [ 1.11928615, -1.38256585],\n",
       "       [ 0.96871799, -0.08345557],\n",
       "       [ 2.08867442, -0.76923752],\n",
       "       [ 2.33736565, -0.13063467],\n",
       "       [ 1.11082726, -1.02535264],\n",
       "       [-1.08171585,  0.27207267],\n",
       "       [-2.46220595,  1.6368967 ],\n",
       "       [-0.77381242,  0.14064517],\n",
       "       [-2.05768513,  1.25725657],\n",
       "       [-0.91761347,  0.77250815],\n",
       "       [-0.58264161,  0.42708972],\n",
       "       [-0.67230579,  0.26364783],\n",
       "       [-0.62324426, -0.92593954],\n",
       "       [-0.34240926, -0.44403871],\n",
       "       [-0.40162146, -0.97311864],\n",
       "       [-0.87701082, -0.27048701],\n",
       "       [-0.63170314, -0.1340046 ],\n",
       "       [-0.99035988, -0.67319434],\n",
       "       [-0.79073019, -0.75744274],\n",
       "       [-0.93622302, -0.83663623],\n",
       "       [-1.72459114, -0.68330415],\n",
       "       [-1.26611955, -0.08008563],\n",
       "       [-1.41330416,  0.60569632],\n",
       "       [-1.81256355, -0.25026739],\n",
       "       [-1.41161238,  0.12211052],\n",
       "       [-1.50466012, -0.33283082],\n",
       "       [ 0.44426709, -1.06916181],\n",
       "       [ 0.44595886, -1.25787822],\n",
       "       [-1.06141452, -2.00600398],\n",
       "       [ 0.88412913, -0.84843101],\n",
       "       [-0.04127294, -1.57465219],\n",
       "       [ 0.90781401, -1.14498537],\n",
       "       [-0.35932703, -1.29663248],\n",
       "       [-0.64523736, -1.39267565],\n",
       "       [ 0.16174031, -1.21069912]])"
      ]
     },
     "execution_count": 88,
     "metadata": {},
     "output_type": "execute_result"
    }
   ],
   "source": [
    "sc = StandardScaler()\n",
    "x_scaled =sc.fit_transform(x)\n",
    "x_scaled"
   ]
  },
  {
   "cell_type": "code",
   "execution_count": 89,
   "id": "67e339e0",
   "metadata": {},
   "outputs": [
    {
     "name": "stderr",
     "output_type": "stream",
     "text": [
      "C:\\Users\\Aishwarya21\\.conda\\lib\\site-packages\\sklearn\\cluster\\_kmeans.py:870: FutureWarning: The default value of `n_init` will change from 10 to 'auto' in 1.4. Set the value of `n_init` explicitly to suppress the warning\n",
      "  warnings.warn(\n",
      "C:\\Users\\Aishwarya21\\.conda\\lib\\site-packages\\sklearn\\cluster\\_kmeans.py:1382: UserWarning: KMeans is known to have a memory leak on Windows with MKL, when there are less chunks than available threads. You can avoid it by setting the environment variable OMP_NUM_THREADS=1.\n",
      "  warnings.warn(\n"
     ]
    },
    {
     "data": {
      "text/plain": [
       "(array([1, 2, 2, 2, 1, 0, 1, 1, 1, 1, 2, 1, 2, 2, 2, 2, 2, 2, 2, 2, 2, 1,\n",
       "        2, 2, 2, 2, 1, 1, 1, 1, 1, 1, 1, 1, 3, 4, 3, 4, 3, 3, 3, 0, 0, 0,\n",
       "        3, 3, 0, 0, 0, 3, 3, 3, 3, 3, 3, 1, 1, 0, 1, 0, 1, 0, 0, 0]),\n",
       " 64)"
      ]
     },
     "execution_count": 89,
     "metadata": {},
     "output_type": "execute_result"
    }
   ],
   "source": [
    "cluster = KMeans(n_clusters=5)\n",
    "cluster.fit(x_scaled)\n",
    "p1 = cluster.predict(x_scaled)\n",
    "p1,len(p1)"
   ]
  },
  {
   "cell_type": "code",
   "execution_count": 90,
   "id": "b03d39ea",
   "metadata": {},
   "outputs": [
    {
     "data": {
      "text/plain": [
       "0.3897581028770817"
      ]
     },
     "execution_count": 90,
     "metadata": {},
     "output_type": "execute_result"
    }
   ],
   "source": [
    "labels = cluster.labels_\n",
    "silhouette_score(x_scaled, labels, metric='euclidean')"
   ]
  },
  {
   "cell_type": "code",
   "execution_count": 91,
   "id": "a0ec5c30",
   "metadata": {},
   "outputs": [
    {
     "data": {
      "text/plain": [
       "array([[12.972442 , 77.580643 ],\n",
       "       [12.9609917, 77.6387256],\n",
       "       [12.971891 , 77.641151 ],\n",
       "       [12.9629   , 77.6595   ],\n",
       "       [13.0031   , 77.5643   ],\n",
       "       [12.9627   , 77.5758   ],\n",
       "       [12.9901   , 77.5525   ],\n",
       "       [13.0068   , 77.5813   ],\n",
       "       [12.9935   , 77.5787   ],\n",
       "       [12.9857   , 77.6057   ],\n",
       "       [12.9817   , 77.6286   ],\n",
       "       [12.9911   , 77.592    ],\n",
       "       [12.926    , 77.6762   ],\n",
       "       [12.9855   , 77.6639   ],\n",
       "       [12.9922   , 77.7159   ],\n",
       "       [13.004    , 77.6878   ],\n",
       "       [12.9913   , 77.6874   ],\n",
       "       [12.9592   , 77.6974   ],\n",
       "       [12.9389   , 77.7412   ],\n",
       "       [12.9698   , 77.7499   ],\n",
       "       [13.012    , 77.6471   ],\n",
       "       [13.0377   , 77.6288   ],\n",
       "       [13.0251   , 77.6597   ],\n",
       "       [13.0159   , 77.6379   ],\n",
       "       [13.0084   , 77.6306   ],\n",
       "       [13.0184   , 77.6781   ],\n",
       "       [13.0358   , 77.597    ],\n",
       "       [13.0528   , 77.5419   ],\n",
       "       [13.0334   , 77.564    ],\n",
       "       [13.0285   , 77.5197   ],\n",
       "       [13.0196   , 77.5968   ],\n",
       "       [13.0858   , 77.5561   ],\n",
       "       [13.1005   , 77.594    ],\n",
       "       [13.028    , 77.5409   ],\n",
       "       [12.8984   , 77.6179   ],\n",
       "       [12.8168   , 77.6989   ],\n",
       "       [12.9166   , 77.6101   ],\n",
       "       [12.840711 , 77.676369 ],\n",
       "       [12.9081   , 77.6476   ],\n",
       "       [12.9279   , 77.6271   ],\n",
       "       [12.9226   , 77.6174   ],\n",
       "       [12.9255   , 77.5468   ],\n",
       "       [12.9421   , 77.5754   ],\n",
       "       [12.9386   , 77.544    ],\n",
       "       [12.9105   , 77.5857   ],\n",
       "       [12.925    , 77.5938   ],\n",
       "       [12.9038   , 77.5618   ],\n",
       "       [12.9156   , 77.5568   ],\n",
       "       [12.907    , 77.5521   ],\n",
       "       [12.8604   , 77.5612   ],\n",
       "       [12.8875   , 77.597    ],\n",
       "       [12.8788   , 77.6377   ],\n",
       "       [12.8552   , 77.5869   ],\n",
       "       [12.8789   , 77.609    ],\n",
       "       [12.8734   , 77.582    ],\n",
       "       [12.9886   , 77.5383   ],\n",
       "       [12.9887   , 77.5271   ],\n",
       "       [12.8996   , 77.4827   ],\n",
       "       [13.0146   , 77.5514   ],\n",
       "       [12.9599   , 77.5083   ],\n",
       "       [13.016    , 77.5338   ],\n",
       "       [12.9411   , 77.5248   ],\n",
       "       [12.9242   , 77.5191   ],\n",
       "       [12.9719   , 77.5299   ]])"
      ]
     },
     "execution_count": 91,
     "metadata": {},
     "output_type": "execute_result"
    }
   ],
   "source": [
    "sc.inverse_transform(x_scaled)"
   ]
  },
  {
   "cell_type": "markdown",
   "id": "404be812",
   "metadata": {},
   "source": [
    "# Linear Regression"
   ]
  },
  {
   "cell_type": "code",
   "execution_count": 92,
   "id": "ec433d51",
   "metadata": {},
   "outputs": [
    {
     "data": {
      "text/plain": [
       "Bangalore    64\n",
       "Name: City, dtype: int64"
      ]
     },
     "execution_count": 92,
     "metadata": {},
     "output_type": "execute_result"
    }
   ],
   "source": [
    "data.City.value_counts()"
   ]
  },
  {
   "cell_type": "code",
   "execution_count": 93,
   "id": "5d6c8452",
   "metadata": {},
   "outputs": [
    {
     "data": {
      "text/html": [
       "<div>\n",
       "<style scoped>\n",
       "    .dataframe tbody tr th:only-of-type {\n",
       "        vertical-align: middle;\n",
       "    }\n",
       "\n",
       "    .dataframe tbody tr th {\n",
       "        vertical-align: top;\n",
       "    }\n",
       "\n",
       "    .dataframe thead th {\n",
       "        text-align: right;\n",
       "    }\n",
       "</style>\n",
       "<table border=\"1\" class=\"dataframe\">\n",
       "  <thead>\n",
       "    <tr style=\"text-align: right;\">\n",
       "      <th></th>\n",
       "      <th>Borough</th>\n",
       "      <th>Neighborhoods</th>\n",
       "      <th>Latitude</th>\n",
       "      <th>Longitude</th>\n",
       "      <th>Population</th>\n",
       "      <th>City</th>\n",
       "      <th>AverageIncome</th>\n",
       "      <th>cluster</th>\n",
       "    </tr>\n",
       "  </thead>\n",
       "  <tbody>\n",
       "    <tr>\n",
       "      <th>0</th>\n",
       "      <td>Central</td>\n",
       "      <td>Domlur</td>\n",
       "      <td>12.972442</td>\n",
       "      <td>77.580643</td>\n",
       "      <td>866377</td>\n",
       "      <td>Bangalore</td>\n",
       "      <td>18944.09979</td>\n",
       "      <td>1</td>\n",
       "    </tr>\n",
       "    <tr>\n",
       "      <th>1</th>\n",
       "      <td>Central</td>\n",
       "      <td>Indiranagar</td>\n",
       "      <td>12.960992</td>\n",
       "      <td>77.638726</td>\n",
       "      <td>743186</td>\n",
       "      <td>Bangalore</td>\n",
       "      <td>56837.02220</td>\n",
       "      <td>0</td>\n",
       "    </tr>\n",
       "  </tbody>\n",
       "</table>\n",
       "</div>"
      ],
      "text/plain": [
       "   Borough Neighborhoods   Latitude  Longitude  Population       City  \\\n",
       "0  Central        Domlur  12.972442  77.580643      866377  Bangalore   \n",
       "1  Central   Indiranagar  12.960992  77.638726      743186  Bangalore   \n",
       "\n",
       "   AverageIncome  cluster  \n",
       "0    18944.09979        1  \n",
       "1    56837.02220        0  "
      ]
     },
     "execution_count": 93,
     "metadata": {},
     "output_type": "execute_result"
    }
   ],
   "source": [
    "#### Filter the Data based on State -\n",
    "Bangalore = data[data['City']=='Bangalore']\n",
    "Bangalore.head(2)"
   ]
  },
  {
   "cell_type": "code",
   "execution_count": 94,
   "id": "8d56dc0a",
   "metadata": {},
   "outputs": [
    {
     "data": {
      "text/plain": [
       "79297145483.79724"
      ]
     },
     "execution_count": 94,
     "metadata": {},
     "output_type": "execute_result"
    }
   ],
   "source": [
    "Bangalore.Population.var()"
   ]
  },
  {
   "cell_type": "code",
   "execution_count": 95,
   "id": "346bffa8",
   "metadata": {},
   "outputs": [
    {
     "name": "stderr",
     "output_type": "stream",
     "text": [
      "C:\\Users\\Aishwarya21\\AppData\\Local\\Temp\\ipykernel_3368\\1239534268.py:2: FutureWarning: The default value of numeric_only in DataFrame.corr is deprecated. In a future version, it will default to False. Select only valid columns or specify the value of numeric_only to silence this warning.\n",
      "  sns.heatmap(Bangalore.corr(),annot = True,cmap = 'RdBu')\n"
     ]
    },
    {
     "data": {
      "text/plain": [
       "<Axes: >"
      ]
     },
     "execution_count": 95,
     "metadata": {},
     "output_type": "execute_result"
    },
    {
     "data": {
      "image/png": "[encoded data removed]",
      "text/plain": [
       "<Figure size 640x480 with 2 Axes>"
      ]
     },
     "metadata": {},
     "output_type": "display_data"
    }
   ],
   "source": [
    "#### Transformation are used to scale down the data in the normal distributed\n",
    "sns.heatmap(Bangalore.corr(),annot = True,cmap = 'RdBu')"
   ]
  },
  {
   "cell_type": "code",
   "execution_count": 96,
   "id": "a4e4eb64",
   "metadata": {},
   "outputs": [
    {
     "data": {
      "text/html": [
       "<div>\n",
       "<style scoped>\n",
       "    .dataframe tbody tr th:only-of-type {\n",
       "        vertical-align: middle;\n",
       "    }\n",
       "\n",
       "    .dataframe tbody tr th {\n",
       "        vertical-align: top;\n",
       "    }\n",
       "\n",
       "    .dataframe thead th {\n",
       "        text-align: right;\n",
       "    }\n",
       "</style>\n",
       "<table border=\"1\" class=\"dataframe\">\n",
       "  <thead>\n",
       "    <tr style=\"text-align: right;\">\n",
       "      <th></th>\n",
       "      <th>Latitude</th>\n",
       "      <th>Longitude</th>\n",
       "      <th>Population</th>\n",
       "      <th>AverageIncome</th>\n",
       "    </tr>\n",
       "  </thead>\n",
       "  <tbody>\n",
       "    <tr>\n",
       "      <th>0</th>\n",
       "      <td>12.972442</td>\n",
       "      <td>77.580643</td>\n",
       "      <td>866377</td>\n",
       "      <td>18944.099790</td>\n",
       "    </tr>\n",
       "    <tr>\n",
       "      <th>1</th>\n",
       "      <td>12.960992</td>\n",
       "      <td>77.638726</td>\n",
       "      <td>743186</td>\n",
       "      <td>56837.022200</td>\n",
       "    </tr>\n",
       "    <tr>\n",
       "      <th>2</th>\n",
       "      <td>12.971891</td>\n",
       "      <td>77.641151</td>\n",
       "      <td>474289</td>\n",
       "      <td>41991.817440</td>\n",
       "    </tr>\n",
       "    <tr>\n",
       "      <th>3</th>\n",
       "      <td>12.962900</td>\n",
       "      <td>77.659500</td>\n",
       "      <td>527874</td>\n",
       "      <td>6667.447632</td>\n",
       "    </tr>\n",
       "    <tr>\n",
       "      <th>4</th>\n",
       "      <td>13.003100</td>\n",
       "      <td>77.564300</td>\n",
       "      <td>893629</td>\n",
       "      <td>53270.063890</td>\n",
       "    </tr>\n",
       "    <tr>\n",
       "      <th>...</th>\n",
       "      <td>...</td>\n",
       "      <td>...</td>\n",
       "      <td>...</td>\n",
       "      <td>...</td>\n",
       "    </tr>\n",
       "    <tr>\n",
       "      <th>59</th>\n",
       "      <td>12.959900</td>\n",
       "      <td>77.508300</td>\n",
       "      <td>623843</td>\n",
       "      <td>38627.411760</td>\n",
       "    </tr>\n",
       "    <tr>\n",
       "      <th>60</th>\n",
       "      <td>13.016000</td>\n",
       "      <td>77.533800</td>\n",
       "      <td>638555</td>\n",
       "      <td>32490.969170</td>\n",
       "    </tr>\n",
       "    <tr>\n",
       "      <th>61</th>\n",
       "      <td>12.941100</td>\n",
       "      <td>77.524800</td>\n",
       "      <td>474920</td>\n",
       "      <td>46826.803890</td>\n",
       "    </tr>\n",
       "    <tr>\n",
       "      <th>62</th>\n",
       "      <td>12.924200</td>\n",
       "      <td>77.519100</td>\n",
       "      <td>516920</td>\n",
       "      <td>12533.785280</td>\n",
       "    </tr>\n",
       "    <tr>\n",
       "      <th>63</th>\n",
       "      <td>12.971900</td>\n",
       "      <td>77.529900</td>\n",
       "      <td>791549</td>\n",
       "      <td>51966.782270</td>\n",
       "    </tr>\n",
       "  </tbody>\n",
       "</table>\n",
       "<p>64 rows × 4 columns</p>\n",
       "</div>"
      ],
      "text/plain": [
       "     Latitude  Longitude  Population  AverageIncome\n",
       "0   12.972442  77.580643      866377   18944.099790\n",
       "1   12.960992  77.638726      743186   56837.022200\n",
       "2   12.971891  77.641151      474289   41991.817440\n",
       "3   12.962900  77.659500      527874    6667.447632\n",
       "4   13.003100  77.564300      893629   53270.063890\n",
       "..        ...        ...         ...            ...\n",
       "59  12.959900  77.508300      623843   38627.411760\n",
       "60  13.016000  77.533800      638555   32490.969170\n",
       "61  12.941100  77.524800      474920   46826.803890\n",
       "62  12.924200  77.519100      516920   12533.785280\n",
       "63  12.971900  77.529900      791549   51966.782270\n",
       "\n",
       "[64 rows x 4 columns]"
      ]
     },
     "execution_count": 96,
     "metadata": {},
     "output_type": "execute_result"
    }
   ],
   "source": [
    "Bangalore[['Latitude','Longitude','Population','AverageIncome']]"
   ]
  },
  {
   "cell_type": "code",
   "execution_count": 97,
   "id": "06e2425f",
   "metadata": {},
   "outputs": [],
   "source": [
    "X = Bangalore[['Latitude','Longitude','Population']]\n",
    "Y = Bangalore['AverageIncome']"
   ]
  },
  {
   "cell_type": "code",
   "execution_count": 98,
   "id": "60713d79",
   "metadata": {},
   "outputs": [
    {
     "name": "stdout",
     "output_type": "stream",
     "text": [
      "model Training Completed\n"
     ]
    }
   ],
   "source": [
    "model = LinearRegression()\n",
    "model_train = model.fit(X,Y)\n",
    "print(\"model Training Completed\")"
   ]
  },
  {
   "cell_type": "code",
   "execution_count": 99,
   "id": "a069fffc",
   "metadata": {},
   "outputs": [
    {
     "data": {
      "text/plain": [
       "array([ 1.00813595e+04, -6.94196200e+03,  7.11769059e-04])"
      ]
     },
     "execution_count": 99,
     "metadata": {},
     "output_type": "execute_result"
    }
   ],
   "source": [
    "model_train.coef_"
   ]
  },
  {
   "cell_type": "code",
   "execution_count": 100,
   "id": "4e6b708b",
   "metadata": {},
   "outputs": [
    {
     "data": {
      "text/plain": [
       "445531.70103154756"
      ]
     },
     "execution_count": 100,
     "metadata": {},
     "output_type": "execute_result"
    }
   ],
   "source": [
    "model_train.intercept_"
   ]
  },
  {
   "cell_type": "code",
   "execution_count": 101,
   "id": "b6974181",
   "metadata": {},
   "outputs": [
    {
     "data": {
      "text/plain": [
       "array([38366.33726083, 37760.01192625, 37661.66208838, 37481.78266959,\n",
       "       38808.26119534, 38205.38670694, 38821.56430842, 38563.12737175,\n",
       "       38257.93251125, 37764.79209745, 37977.53172048, 38529.92758314,\n",
       "       36766.24022936, 37390.69640921, 37245.09036872, 37574.44179533,\n",
       "       37843.24344242, 36983.01693716, 36685.70566177, 36607.16377843,\n",
       "       38136.99347913, 38658.40826761, 38215.06364259, 38310.35512544,\n",
       "       37924.19204836, 37870.03235853, 38934.65485615, 39234.25915351,\n",
       "       39019.00624908, 39208.82162149, 38284.60183347, 39564.34451977,\n",
       "       38959.23055811, 38823.18027852, 37269.28817157, 35874.84179274,\n",
       "       37577.08027638, 36313.19979297, 37016.71945253, 37183.1831123 ,\n",
       "       37633.80908005, 38088.19718932, 37784.04136244, 38220.57383405,\n",
       "       37271.9062063 , 37254.03582608, 37888.58564191, 37741.72382044,\n",
       "       37802.16218001, 37424.20448055, 36878.56148321, 36832.97288809,\n",
       "       36795.67416137, 37285.4093464 , 36788.22088905, 38654.15370107,\n",
       "       38974.61933089, 37705.71367856, 38595.77884163, 38569.47100982,\n",
       "       38968.48679262, 38159.40029488, 38058.48880339, 38659.8688864 ])"
      ]
     },
     "execution_count": 101,
     "metadata": {},
     "output_type": "execute_result"
    }
   ],
   "source": [
    "pred = model_train.predict\n",
    "pred(X)"
   ]
  },
  {
   "cell_type": "markdown",
   "id": "292c331f",
   "metadata": {},
   "source": [
    "# Decision_tree and Random forest"
   ]
  },
  {
   "cell_type": "code",
   "execution_count": 111,
   "id": "194455c2",
   "metadata": {},
   "outputs": [],
   "source": [
    "x = data[['Latitude','Longitude','Population','AverageIncome']]\n",
    "y = data['Neighborhoods']"
   ]
  },
  {
   "cell_type": "code",
   "execution_count": 112,
   "id": "f161f29f",
   "metadata": {},
   "outputs": [],
   "source": [
    "x_train,x_test,y_train,y_test = train_test_split(x,y,test_size = 0.3)"
   ]
  },
  {
   "cell_type": "code",
   "execution_count": 113,
   "id": "a6d93694",
   "metadata": {},
   "outputs": [],
   "source": [
    "from sklearn.tree import DecisionTreeClassifier\n",
    "from sklearn.metrics import confusion_matrix, ConfusionMatrixDisplay,classification_report,accuracy_score\n",
    "from sklearn import tree"
   ]
  },
  {
   "cell_type": "code",
   "execution_count": 114,
   "id": "92b3aad6",
   "metadata": {},
   "outputs": [],
   "source": [
    "model = DecisionTreeClassifier()\n",
    "clf =model.fit(x_train,y_train)"
   ]
  },
  {
   "cell_type": "code",
   "execution_count": 115,
   "id": "e2a59e8a",
   "metadata": {
    "collapsed": true
   },
   "outputs": [
    {
     "data": {
      "text/plain": [
       "[Text(0.043478260869565216, 0.9886363636363636, 'x[2] <= 39977.0\\ngini = 0.977\\nsamples = 44\\nvalue = [1, 1, 1, 1, 1, 1, 1, 1, 1, 1, 1, 1, 1, 1\\n1, 1, 1, 1, 1, 1, 1, 1, 1, 1, 1, 1, 1, 1\\n1, 1, 1, 1, 1, 1, 1, 1, 1, 1, 1, 1, 1, 1\\n1, 1]'),\n",
       " Text(0.021739130434782608, 0.9659090909090909, 'gini = 0.0\\nsamples = 1\\nvalue = [0, 0, 0, 0, 0, 0, 0, 0, 0, 0, 0, 0, 0, 0\\n0, 0, 0, 0, 0, 0, 0, 0, 0, 0, 0, 0, 1, 0\\n0, 0, 0, 0, 0, 0, 0, 0, 0, 0, 0, 0, 0, 0\\n0, 0]'),\n",
       " Text(0.06521739130434782, 0.9659090909090909, 'x[3] <= 7509.191\\ngini = 0.977\\nsamples = 43\\nvalue = [1, 1, 1, 1, 1, 1, 1, 1, 1, 1, 1, 1, 1, 1\\n1, 1, 1, 1, 1, 1, 1, 1, 1, 1, 1, 1, 0, 1\\n1, 1, 1, 1, 1, 1, 1, 1, 1, 1, 1, 1, 1, 1\\n1, 1]'),\n",
       " Text(0.043478260869565216, 0.9431818181818182, 'gini = 0.0\\nsamples = 1\\nvalue = [0, 0, 0, 0, 0, 0, 0, 0, 0, 0, 0, 0, 0, 0\\n0, 0, 0, 0, 0, 0, 0, 0, 0, 0, 0, 0, 0, 1\\n0, 0, 0, 0, 0, 0, 0, 0, 0, 0, 0, 0, 0, 0\\n0, 0]'),\n",
       " Text(0.08695652173913043, 0.9431818181818182, 'x[1] <= 77.522\\ngini = 0.976\\nsamples = 42\\nvalue = [1, 1, 1, 1, 1, 1, 1, 1, 1, 1, 1, 1, 1, 1\\n1, 1, 1, 1, 1, 1, 1, 1, 1, 1, 1, 1, 0, 0\\n1, 1, 1, 1, 1, 1, 1, 1, 1, 1, 1, 1, 1, 1\\n1, 1]'),\n",
       " Text(0.06521739130434782, 0.9204545454545454, 'gini = 0.0\\nsamples = 1\\nvalue = [0, 0, 0, 0, 0, 0, 0, 0, 0, 0, 0, 0, 0, 0\\n0, 0, 0, 0, 0, 0, 0, 0, 0, 0, 0, 0, 0, 0\\n0, 0, 0, 0, 0, 1, 0, 0, 0, 0, 0, 0, 0, 0\\n0, 0]'),\n",
       " Text(0.10869565217391304, 0.9204545454545454, 'x[2] <= 74139.0\\ngini = 0.976\\nsamples = 41\\nvalue = [1, 1, 1, 1, 1, 1, 1, 1, 1, 1, 1, 1, 1, 1\\n1, 1, 1, 1, 1, 1, 1, 1, 1, 1, 1, 1, 0, 0\\n1, 1, 1, 1, 1, 0, 1, 1, 1, 1, 1, 1, 1, 1\\n1, 1]'),\n",
       " Text(0.08695652173913043, 0.8977272727272727, 'gini = 0.0\\nsamples = 1\\nvalue = [0, 0, 1, 0, 0, 0, 0, 0, 0, 0, 0, 0, 0, 0\\n0, 0, 0, 0, 0, 0, 0, 0, 0, 0, 0, 0, 0, 0\\n0, 0, 0, 0, 0, 0, 0, 0, 0, 0, 0, 0, 0, 0\\n0, 0]'),\n",
       " Text(0.13043478260869565, 0.8977272727272727, 'x[1] <= 77.526\\ngini = 0.975\\nsamples = 40\\nvalue = [1, 1, 0, 1, 1, 1, 1, 1, 1, 1, 1, 1, 1, 1\\n1, 1, 1, 1, 1, 1, 1, 1, 1, 1, 1, 1, 0, 0\\n1, 1, 1, 1, 1, 0, 1, 1, 1, 1, 1, 1, 1, 1\\n1, 1]'),\n",
       " Text(0.10869565217391304, 0.875, 'gini = 0.0\\nsamples = 1\\nvalue = [0, 0, 0, 0, 0, 0, 0, 0, 0, 0, 0, 0, 0, 0\\n0, 0, 0, 0, 0, 0, 0, 0, 0, 0, 0, 0, 0, 0\\n0, 0, 0, 0, 0, 0, 0, 1, 0, 0, 0, 0, 0, 0\\n0, 0]'),\n",
       " Text(0.15217391304347827, 0.875, 'x[3] <= 8383.614\\ngini = 0.974\\nsamples = 39\\nvalue = [1, 1, 0, 1, 1, 1, 1, 1, 1, 1, 1, 1, 1, 1\\n1, 1, 1, 1, 1, 1, 1, 1, 1, 1, 1, 1, 0, 0\\n1, 1, 1, 1, 1, 0, 1, 0, 1, 1, 1, 1, 1, 1\\n1, 1]'),\n",
       " Text(0.13043478260869565, 0.8522727272727273, 'gini = 0.0\\nsamples = 1\\nvalue = [0, 0, 0, 0, 0, 0, 0, 0, 0, 1, 0, 0, 0, 0\\n0, 0, 0, 0, 0, 0, 0, 0, 0, 0, 0, 0, 0, 0\\n0, 0, 0, 0, 0, 0, 0, 0, 0, 0, 0, 0, 0, 0\\n0, 0]'),\n",
       " Text(0.17391304347826086, 0.8522727272727273, 'x[1] <= 77.528\\ngini = 0.974\\nsamples = 38\\nvalue = [1, 1, 0, 1, 1, 1, 1, 1, 1, 0, 1, 1, 1, 1\\n1, 1, 1, 1, 1, 1, 1, 1, 1, 1, 1, 1, 0, 0\\n1, 1, 1, 1, 1, 0, 1, 0, 1, 1, 1, 1, 1, 1\\n1, 1]'),\n",
       " Text(0.15217391304347827, 0.8295454545454546, 'gini = 0.0\\nsamples = 1\\nvalue = [0, 0, 0, 0, 0, 0, 0, 0, 0, 0, 0, 0, 0, 0\\n0, 0, 0, 0, 0, 1, 0, 0, 0, 0, 0, 0, 0, 0\\n0, 0, 0, 0, 0, 0, 0, 0, 0, 0, 0, 0, 0, 0\\n0, 0]'),\n",
       " Text(0.1956521739130435, 0.8295454545454546, 'x[0] <= 12.879\\ngini = 0.973\\nsamples = 37\\nvalue = [1, 1, 0, 1, 1, 1, 1, 1, 1, 0, 1, 1, 1, 1\\n1, 1, 1, 1, 1, 0, 1, 1, 1, 1, 1, 1, 0, 0\\n1, 1, 1, 1, 1, 0, 1, 0, 1, 1, 1, 1, 1, 1\\n1, 1]'),\n",
       " Text(0.17391304347826086, 0.8068181818181818, 'gini = 0.0\\nsamples = 1\\nvalue = [0, 0, 0, 0, 0, 0, 0, 0, 1, 0, 0, 0, 0, 0\\n0, 0, 0, 0, 0, 0, 0, 0, 0, 0, 0, 0, 0, 0\\n0, 0, 0, 0, 0, 0, 0, 0, 0, 0, 0, 0, 0, 0\\n0, 0]'),\n",
       " Text(0.21739130434782608, 0.8068181818181818, 'x[1] <= 77.534\\ngini = 0.972\\nsamples = 36\\nvalue = [1, 1, 0, 1, 1, 1, 1, 1, 0, 0, 1, 1, 1, 1\\n1, 1, 1, 1, 1, 0, 1, 1, 1, 1, 1, 1, 0, 0\\n1, 1, 1, 1, 1, 0, 1, 0, 1, 1, 1, 1, 1, 1\\n1, 1]'),\n",
       " Text(0.1956521739130435, 0.7840909090909091, 'gini = 0.0\\nsamples = 1\\nvalue = [0, 0, 0, 0, 0, 0, 0, 0, 0, 0, 0, 0, 0, 0\\n0, 0, 0, 0, 0, 0, 0, 0, 0, 0, 0, 0, 0, 0\\n0, 0, 0, 0, 0, 0, 0, 0, 0, 0, 0, 0, 0, 0\\n0, 1]'),\n",
       " Text(0.2391304347826087, 0.7840909090909091, 'x[3] <= 8653.805\\ngini = 0.971\\nsamples = 35\\nvalue = [1, 1, 0, 1, 1, 1, 1, 1, 0, 0, 1, 1, 1, 1\\n1, 1, 1, 1, 1, 0, 1, 1, 1, 1, 1, 1, 0, 0\\n1, 1, 1, 1, 1, 0, 1, 0, 1, 1, 1, 1, 1, 1\\n1, 0]'),\n",
       " Text(0.21739130434782608, 0.7613636363636364, 'gini = 0.0\\nsamples = 1\\nvalue = [0, 0, 0, 0, 0, 0, 0, 0, 0, 0, 0, 0, 0, 0\\n0, 0, 0, 0, 0, 0, 0, 0, 0, 0, 0, 0, 0, 0\\n0, 0, 1, 0, 0, 0, 0, 0, 0, 0, 0, 0, 0, 0\\n0, 0]'),\n",
       " Text(0.2608695652173913, 0.7613636363636364, 'x[2] <= 93479.5\\ngini = 0.971\\nsamples = 34\\nvalue = [1, 1, 0, 1, 1, 1, 1, 1, 0, 0, 1, 1, 1, 1\\n1, 1, 1, 1, 1, 0, 1, 1, 1, 1, 1, 1, 0, 0\\n1, 1, 0, 1, 1, 0, 1, 0, 1, 1, 1, 1, 1, 1\\n1, 0]'),\n",
       " Text(0.2391304347826087, 0.7386363636363636, 'gini = 0.0\\nsamples = 1\\nvalue = [0, 1, 0, 0, 0, 0, 0, 0, 0, 0, 0, 0, 0, 0\\n0, 0, 0, 0, 0, 0, 0, 0, 0, 0, 0, 0, 0, 0\\n0, 0, 0, 0, 0, 0, 0, 0, 0, 0, 0, 0, 0, 0\\n0, 0]'),\n",
       " Text(0.2826086956521739, 0.7386363636363636, 'x[2] <= 113322.0\\ngini = 0.97\\nsamples = 33\\nvalue = [1, 0, 0, 1, 1, 1, 1, 1, 0, 0, 1, 1, 1, 1\\n1, 1, 1, 1, 1, 0, 1, 1, 1, 1, 1, 1, 0, 0\\n1, 1, 0, 1, 1, 0, 1, 0, 1, 1, 1, 1, 1, 1\\n1, 0]'),\n",
       " Text(0.2608695652173913, 0.7159090909090909, 'gini = 0.0\\nsamples = 1\\nvalue = [0, 0, 0, 0, 0, 0, 0, 0, 0, 0, 0, 0, 0, 0\\n0, 0, 0, 0, 0, 0, 0, 0, 1, 0, 0, 0, 0, 0\\n0, 0, 0, 0, 0, 0, 0, 0, 0, 0, 0, 0, 0, 0\\n0, 0]'),\n",
       " Text(0.30434782608695654, 0.7159090909090909, 'x[3] <= 14390.527\\ngini = 0.969\\nsamples = 32\\nvalue = [1, 0, 0, 1, 1, 1, 1, 1, 0, 0, 1, 1, 1, 1\\n1, 1, 1, 1, 1, 0, 1, 1, 0, 1, 1, 1, 0, 0\\n1, 1, 0, 1, 1, 0, 1, 0, 1, 1, 1, 1, 1, 1\\n1, 0]'),\n",
       " Text(0.2826086956521739, 0.6931818181818182, 'gini = 0.0\\nsamples = 1\\nvalue = [0, 0, 0, 0, 0, 0, 0, 0, 0, 0, 0, 0, 0, 0\\n0, 0, 0, 0, 0, 0, 0, 0, 0, 0, 0, 0, 0, 0\\n0, 1, 0, 0, 0, 0, 0, 0, 0, 0, 0, 0, 0, 0\\n0, 0]'),\n",
       " Text(0.32608695652173914, 0.6931818181818182, 'x[3] <= 20767.582\\ngini = 0.968\\nsamples = 31\\nvalue = [1, 0, 0, 1, 1, 1, 1, 1, 0, 0, 1, 1, 1, 1\\n1, 1, 1, 1, 1, 0, 1, 1, 0, 1, 1, 1, 0, 0\\n1, 0, 0, 1, 1, 0, 1, 0, 1, 1, 1, 1, 1, 1\\n1, 0]'),\n",
       " Text(0.30434782608695654, 0.6704545454545454, 'gini = 0.0\\nsamples = 1\\nvalue = [0, 0, 0, 0, 0, 0, 1, 0, 0, 0, 0, 0, 0, 0\\n0, 0, 0, 0, 0, 0, 0, 0, 0, 0, 0, 0, 0, 0\\n0, 0, 0, 0, 0, 0, 0, 0, 0, 0, 0, 0, 0, 0\\n0, 0]'),\n",
       " Text(0.34782608695652173, 0.6704545454545454, 'x[2] <= 130737.0\\ngini = 0.967\\nsamples = 30\\nvalue = [1, 0, 0, 1, 1, 1, 0, 1, 0, 0, 1, 1, 1, 1\\n1, 1, 1, 1, 1, 0, 1, 1, 0, 1, 1, 1, 0, 0\\n1, 0, 0, 1, 1, 0, 1, 0, 1, 1, 1, 1, 1, 1\\n1, 0]'),\n",
       " Text(0.32608695652173914, 0.6477272727272727, 'gini = 0.0\\nsamples = 1\\nvalue = [0, 0, 0, 0, 0, 0, 0, 0, 0, 0, 0, 1, 0, 0\\n0, 0, 0, 0, 0, 0, 0, 0, 0, 0, 0, 0, 0, 0\\n0, 0, 0, 0, 0, 0, 0, 0, 0, 0, 0, 0, 0, 0\\n0, 0]'),\n",
       " Text(0.3695652173913043, 0.6477272727272727, 'x[3] <= 22868.706\\ngini = 0.966\\nsamples = 29\\nvalue = [1, 0, 0, 1, 1, 1, 0, 1, 0, 0, 1, 0, 1, 1\\n1, 1, 1, 1, 1, 0, 1, 1, 0, 1, 1, 1, 0, 0\\n1, 0, 0, 1, 1, 0, 1, 0, 1, 1, 1, 1, 1, 1\\n1, 0]'),\n",
       " Text(0.34782608695652173, 0.625, 'gini = 0.0\\nsamples = 1\\nvalue = [0, 0, 0, 0, 0, 0, 0, 0, 0, 0, 0, 0, 0, 0\\n0, 0, 0, 0, 0, 0, 0, 1, 0, 0, 0, 0, 0, 0\\n0, 0, 0, 0, 0, 0, 0, 0, 0, 0, 0, 0, 0, 0\\n0, 0]'),\n",
       " Text(0.391304347826087, 0.625, 'x[0] <= 12.883\\ngini = 0.964\\nsamples = 28\\nvalue = [1, 0, 0, 1, 1, 1, 0, 1, 0, 0, 1, 0, 1, 1\\n1, 1, 1, 1, 1, 0, 1, 0, 0, 1, 1, 1, 0, 0\\n1, 0, 0, 1, 1, 0, 1, 0, 1, 1, 1, 1, 1, 1\\n1, 0]'),\n",
       " Text(0.3695652173913043, 0.6022727272727273, 'gini = 0.0\\nsamples = 1\\nvalue = [0, 0, 0, 0, 0, 0, 0, 0, 0, 0, 0, 0, 0, 0\\n0, 0, 0, 0, 0, 0, 1, 0, 0, 0, 0, 0, 0, 0\\n0, 0, 0, 0, 0, 0, 0, 0, 0, 0, 0, 0, 0, 0\\n0, 0]'),\n",
       " Text(0.41304347826086957, 0.6022727272727273, 'x[1] <= 77.54\\ngini = 0.963\\nsamples = 27\\nvalue = [1, 0, 0, 1, 1, 1, 0, 1, 0, 0, 1, 0, 1, 1\\n1, 1, 1, 1, 1, 0, 0, 0, 0, 1, 1, 1, 0, 0\\n1, 0, 0, 1, 1, 0, 1, 0, 1, 1, 1, 1, 1, 1\\n1, 0]'),\n",
       " Text(0.391304347826087, 0.5795454545454546, 'gini = 0.0\\nsamples = 1\\nvalue = [0, 0, 0, 0, 0, 0, 0, 0, 0, 0, 0, 0, 0, 0\\n0, 0, 0, 0, 1, 0, 0, 0, 0, 0, 0, 0, 0, 0\\n0, 0, 0, 0, 0, 0, 0, 0, 0, 0, 0, 0, 0, 0\\n0, 0]'),\n",
       " Text(0.43478260869565216, 0.5795454545454546, 'x[2] <= 180939.5\\ngini = 0.962\\nsamples = 26\\nvalue = [1, 0, 0, 1, 1, 1, 0, 1, 0, 0, 1, 0, 1, 1\\n1, 1, 1, 1, 0, 0, 0, 0, 0, 1, 1, 1, 0, 0\\n1, 0, 0, 1, 1, 0, 1, 0, 1, 1, 1, 1, 1, 1\\n1, 0]'),\n",
       " Text(0.41304347826086957, 0.5568181818181818, 'gini = 0.0\\nsamples = 1\\nvalue = [0, 0, 0, 1, 0, 0, 0, 0, 0, 0, 0, 0, 0, 0\\n0, 0, 0, 0, 0, 0, 0, 0, 0, 0, 0, 0, 0, 0\\n0, 0, 0, 0, 0, 0, 0, 0, 0, 0, 0, 0, 0, 0\\n0, 0]'),\n",
       " Text(0.45652173913043476, 0.5568181818181818, 'x[0] <= 12.909\\ngini = 0.96\\nsamples = 25\\nvalue = [1, 0, 0, 0, 1, 1, 0, 1, 0, 0, 1, 0, 1, 1\\n1, 1, 1, 1, 0, 0, 0, 0, 0, 1, 1, 1, 0, 0\\n1, 0, 0, 1, 1, 0, 1, 0, 1, 1, 1, 1, 1, 1\\n1, 0]'),\n",
       " Text(0.43478260869565216, 0.5340909090909091, 'gini = 0.0\\nsamples = 1\\nvalue = [1, 0, 0, 0, 0, 0, 0, 0, 0, 0, 0, 0, 0, 0\\n0, 0, 0, 0, 0, 0, 0, 0, 0, 0, 0, 0, 0, 0\\n0, 0, 0, 0, 0, 0, 0, 0, 0, 0, 0, 0, 0, 0\\n0, 0]'),\n",
       " Text(0.4782608695652174, 0.5340909090909091, 'x[1] <= 77.542\\ngini = 0.958\\nsamples = 24\\nvalue = [0, 0, 0, 0, 1, 1, 0, 1, 0, 0, 1, 0, 1, 1\\n1, 1, 1, 1, 0, 0, 0, 0, 0, 1, 1, 1, 0, 0\\n1, 0, 0, 1, 1, 0, 1, 0, 1, 1, 1, 1, 1, 1\\n1, 0]'),\n",
       " Text(0.45652173913043476, 0.5113636363636364, 'gini = 0.0\\nsamples = 1\\nvalue = [0, 0, 0, 0, 0, 1, 0, 0, 0, 0, 0, 0, 0, 0\\n0, 0, 0, 0, 0, 0, 0, 0, 0, 0, 0, 0, 0, 0\\n0, 0, 0, 0, 0, 0, 0, 0, 0, 0, 0, 0, 0, 0\\n0, 0]'),\n",
       " Text(0.5, 0.5113636363636364, 'x[3] <= 24657.397\\ngini = 0.957\\nsamples = 23\\nvalue = [0, 0, 0, 0, 1, 0, 0, 1, 0, 0, 1, 0, 1, 1\\n1, 1, 1, 1, 0, 0, 0, 0, 0, 1, 1, 1, 0, 0\\n1, 0, 0, 1, 1, 0, 1, 0, 1, 1, 1, 1, 1, 1\\n1, 0]'),\n",
       " Text(0.4782608695652174, 0.48863636363636365, 'gini = 0.0\\nsamples = 1\\nvalue = [0, 0, 0, 0, 0, 0, 0, 0, 0, 0, 0, 0, 0, 0\\n0, 0, 0, 0, 0, 0, 0, 0, 0, 1, 0, 0, 0, 0\\n0, 0, 0, 0, 0, 0, 0, 0, 0, 0, 0, 0, 0, 0\\n0, 0]'),\n",
       " Text(0.5217391304347826, 0.48863636363636365, 'x[1] <= 77.55\\ngini = 0.955\\nsamples = 22\\nvalue = [0, 0, 0, 0, 1, 0, 0, 1, 0, 0, 1, 0, 1, 1\\n1, 1, 1, 1, 0, 0, 0, 0, 0, 0, 1, 1, 0, 0\\n1, 0, 0, 1, 1, 0, 1, 0, 1, 1, 1, 1, 1, 1\\n1, 0]'),\n",
       " Text(0.5, 0.4659090909090909, 'gini = 0.0\\nsamples = 1\\nvalue = [0, 0, 0, 0, 0, 0, 0, 0, 0, 0, 0, 0, 0, 0\\n1, 0, 0, 0, 0, 0, 0, 0, 0, 0, 0, 0, 0, 0\\n0, 0, 0, 0, 0, 0, 0, 0, 0, 0, 0, 0, 0, 0\\n0, 0]'),\n",
       " Text(0.5434782608695652, 0.4659090909090909, 'x[2] <= 232153.0\\ngini = 0.952\\nsamples = 21\\nvalue = [0, 0, 0, 0, 1, 0, 0, 1, 0, 0, 1, 0, 1, 1\\n0, 1, 1, 1, 0, 0, 0, 0, 0, 0, 1, 1, 0, 0\\n1, 0, 0, 1, 1, 0, 1, 0, 1, 1, 1, 1, 1, 1\\n1, 0]'),\n",
       " Text(0.5217391304347826, 0.4431818181818182, 'gini = 0.0\\nsamples = 1\\nvalue = [0, 0, 0, 0, 0, 0, 0, 0, 0, 0, 0, 0, 0, 0\\n0, 0, 0, 0, 0, 0, 0, 0, 0, 0, 0, 0, 0, 0\\n0, 0, 0, 0, 0, 0, 0, 0, 1, 0, 0, 0, 0, 0\\n0, 0]'),\n",
       " Text(0.5652173913043478, 0.4431818181818182, 'x[3] <= 31042.21\\ngini = 0.95\\nsamples = 20\\nvalue = [0, 0, 0, 0, 1, 0, 0, 1, 0, 0, 1, 0, 1, 1\\n0, 1, 1, 1, 0, 0, 0, 0, 0, 0, 1, 1, 0, 0\\n1, 0, 0, 1, 1, 0, 1, 0, 0, 1, 1, 1, 1, 1\\n1, 0]'),\n",
       " Text(0.5434782608695652, 0.42045454545454547, 'gini = 0.0\\nsamples = 1\\nvalue = [0, 0, 0, 0, 1, 0, 0, 0, 0, 0, 0, 0, 0, 0\\n0, 0, 0, 0, 0, 0, 0, 0, 0, 0, 0, 0, 0, 0\\n0, 0, 0, 0, 0, 0, 0, 0, 0, 0, 0, 0, 0, 0\\n0, 0]'),\n",
       " Text(0.5869565217391305, 0.42045454545454547, 'x[0] <= 12.913\\ngini = 0.947\\nsamples = 19\\nvalue = [0, 0, 0, 0, 0, 0, 0, 1, 0, 0, 1, 0, 1, 1\\n0, 1, 1, 1, 0, 0, 0, 0, 0, 0, 1, 1, 0, 0\\n1, 0, 0, 1, 1, 0, 1, 0, 0, 1, 1, 1, 1, 1\\n1, 0]'),\n",
       " Text(0.5652173913043478, 0.3977272727272727, 'gini = 0.0\\nsamples = 1\\nvalue = [0, 0, 0, 0, 0, 0, 0, 0, 0, 0, 0, 0, 0, 0\\n0, 0, 1, 0, 0, 0, 0, 0, 0, 0, 0, 0, 0, 0\\n0, 0, 0, 0, 0, 0, 0, 0, 0, 0, 0, 0, 0, 0\\n0, 0]'),\n",
       " Text(0.6086956521739131, 0.3977272727272727, 'x[0] <= 12.922\\ngini = 0.944\\nsamples = 18\\nvalue = [0, 0, 0, 0, 0, 0, 0, 1, 0, 0, 1, 0, 1, 1\\n0, 1, 0, 1, 0, 0, 0, 0, 0, 0, 1, 1, 0, 0\\n1, 0, 0, 1, 1, 0, 1, 0, 0, 1, 1, 1, 1, 1\\n1, 0]'),\n",
       " Text(0.5869565217391305, 0.375, 'gini = 0.0\\nsamples = 1\\nvalue = [0, 0, 0, 0, 0, 0, 0, 0, 0, 0, 0, 0, 0, 0\\n0, 0, 0, 0, 0, 0, 0, 0, 0, 0, 0, 0, 0, 0\\n0, 0, 0, 0, 0, 0, 0, 0, 0, 0, 0, 1, 0, 0\\n0, 0]'),\n",
       " Text(0.6304347826086957, 0.375, 'x[1] <= 77.564\\ngini = 0.941\\nsamples = 17\\nvalue = [0, 0, 0, 0, 0, 0, 0, 1, 0, 0, 1, 0, 1, 1\\n0, 1, 0, 1, 0, 0, 0, 0, 0, 0, 1, 1, 0, 0\\n1, 0, 0, 1, 1, 0, 1, 0, 0, 1, 1, 0, 1, 1\\n1, 0]'),\n",
       " Text(0.6086956521739131, 0.3522727272727273, 'gini = 0.0\\nsamples = 1\\nvalue = [0, 0, 0, 0, 0, 0, 0, 0, 0, 0, 0, 0, 0, 0\\n0, 0, 0, 0, 0, 0, 0, 0, 0, 0, 0, 0, 0, 0\\n0, 0, 0, 1, 0, 0, 0, 0, 0, 0, 0, 0, 0, 0\\n0, 0]'),\n",
       " Text(0.6521739130434783, 0.3522727272727273, 'x[0] <= 12.935\\ngini = 0.938\\nsamples = 16\\nvalue = [0, 0, 0, 0, 0, 0, 0, 1, 0, 0, 1, 0, 1, 1\\n0, 1, 0, 1, 0, 0, 0, 0, 0, 0, 1, 1, 0, 0\\n1, 0, 0, 0, 1, 0, 1, 0, 0, 1, 1, 0, 1, 1\\n1, 0]'),\n",
       " Text(0.6304347826086957, 0.32954545454545453, 'gini = 0.0\\nsamples = 1\\nvalue = [0, 0, 0, 0, 0, 0, 0, 0, 0, 0, 0, 0, 0, 0\\n0, 0, 0, 0, 0, 0, 0, 0, 0, 0, 1, 0, 0, 0\\n0, 0, 0, 0, 0, 0, 0, 0, 0, 0, 0, 0, 0, 0\\n0, 0]'),\n",
       " Text(0.6739130434782609, 0.32954545454545453, 'x[1] <= 77.57\\ngini = 0.933\\nsamples = 15\\nvalue = [0, 0, 0, 0, 0, 0, 0, 1, 0, 0, 1, 0, 1, 1\\n0, 1, 0, 1, 0, 0, 0, 0, 0, 0, 0, 1, 0, 0\\n1, 0, 0, 0, 1, 0, 1, 0, 0, 1, 1, 0, 1, 1\\n1, 0]'),\n",
       " Text(0.6521739130434783, 0.3068181818181818, 'gini = 0.0\\nsamples = 1\\nvalue = [0, 0, 0, 0, 0, 0, 0, 0, 0, 0, 0, 0, 0, 0\\n0, 0, 0, 0, 0, 0, 0, 0, 0, 0, 0, 0, 0, 0\\n0, 0, 0, 0, 1, 0, 0, 0, 0, 0, 0, 0, 0, 0\\n0, 0]'),\n",
       " Text(0.6956521739130435, 0.3068181818181818, 'x[1] <= 77.576\\ngini = 0.929\\nsamples = 14\\nvalue = [0, 0, 0, 0, 0, 0, 0, 1, 0, 0, 1, 0, 1, 1\\n0, 1, 0, 1, 0, 0, 0, 0, 0, 0, 0, 1, 0, 0\\n1, 0, 0, 0, 0, 0, 1, 0, 0, 1, 1, 0, 1, 1\\n1, 0]'),\n",
       " Text(0.6739130434782609, 0.2840909090909091, 'gini = 0.0\\nsamples = 1\\nvalue = [0, 0, 0, 0, 0, 0, 0, 1, 0, 0, 0, 0, 0, 0\\n0, 0, 0, 0, 0, 0, 0, 0, 0, 0, 0, 0, 0, 0\\n0, 0, 0, 0, 0, 0, 0, 0, 0, 0, 0, 0, 0, 0\\n0, 0]'),\n",
       " Text(0.717391304347826, 0.2840909090909091, 'x[1] <= 77.577\\ngini = 0.923\\nsamples = 13\\nvalue = [0, 0, 0, 0, 0, 0, 0, 0, 0, 0, 1, 0, 1, 1\\n0, 1, 0, 1, 0, 0, 0, 0, 0, 0, 0, 1, 0, 0\\n1, 0, 0, 0, 0, 0, 1, 0, 0, 1, 1, 0, 1, 1\\n1, 0]'),\n",
       " Text(0.6956521739130435, 0.26136363636363635, 'gini = 0.0\\nsamples = 1\\nvalue = [0, 0, 0, 0, 0, 0, 0, 0, 0, 0, 0, 0, 0, 0\\n0, 0, 0, 0, 0, 0, 0, 0, 0, 0, 0, 0, 0, 0\\n0, 0, 0, 0, 0, 0, 1, 0, 0, 0, 0, 0, 0, 0\\n0, 0]'),\n",
       " Text(0.7391304347826086, 0.26136363636363635, 'x[2] <= 245184.5\\ngini = 0.917\\nsamples = 12\\nvalue = [0, 0, 0, 0, 0, 0, 0, 0, 0, 0, 1, 0, 1, 1\\n0, 1, 0, 1, 0, 0, 0, 0, 0, 0, 0, 1, 0, 0\\n1, 0, 0, 0, 0, 0, 0, 0, 0, 1, 1, 0, 1, 1\\n1, 0]'),\n",
       " Text(0.717391304347826, 0.23863636363636365, 'gini = 0.0\\nsamples = 1\\nvalue = [0, 0, 0, 0, 0, 0, 0, 0, 0, 0, 0, 0, 0, 0\\n0, 0, 0, 0, 0, 0, 0, 0, 0, 0, 0, 0, 0, 0\\n0, 0, 0, 0, 0, 0, 0, 0, 0, 0, 0, 0, 0, 0\\n1, 0]'),\n",
       " Text(0.7608695652173914, 0.23863636363636365, 'x[0] <= 12.96\\ngini = 0.909\\nsamples = 11\\nvalue = [0, 0, 0, 0, 0, 0, 0, 0, 0, 0, 1, 0, 1, 1\\n0, 1, 0, 1, 0, 0, 0, 0, 0, 0, 0, 1, 0, 0\\n1, 0, 0, 0, 0, 0, 0, 0, 0, 1, 1, 0, 1, 1\\n0, 0]'),\n",
       " Text(0.7391304347826086, 0.2159090909090909, 'gini = 0.0\\nsamples = 1\\nvalue = [0, 0, 0, 0, 0, 0, 0, 0, 0, 0, 0, 0, 0, 0\\n0, 0, 0, 0, 0, 0, 0, 0, 0, 0, 0, 0, 0, 0\\n0, 0, 0, 0, 0, 0, 0, 0, 0, 0, 0, 0, 1, 0\\n0, 0]'),\n",
       " Text(0.782608695652174, 0.2159090909090909, 'x[2] <= 374399.0\\ngini = 0.9\\nsamples = 10\\nvalue = [0, 0, 0, 0, 0, 0, 0, 0, 0, 0, 1, 0, 1, 1\\n0, 1, 0, 1, 0, 0, 0, 0, 0, 0, 0, 1, 0, 0\\n1, 0, 0, 0, 0, 0, 0, 0, 0, 1, 1, 0, 0, 1\\n0, 0]'),\n",
       " Text(0.7608695652173914, 0.19318181818181818, 'gini = 0.0\\nsamples = 1\\nvalue = [0, 0, 0, 0, 0, 0, 0, 0, 0, 0, 0, 0, 0, 0\\n0, 0, 0, 0, 0, 0, 0, 0, 0, 0, 0, 1, 0, 0\\n0, 0, 0, 0, 0, 0, 0, 0, 0, 0, 0, 0, 0, 0\\n0, 0]'),\n",
       " Text(0.8043478260869565, 0.19318181818181818, 'x[3] <= 37469.334\\ngini = 0.889\\nsamples = 9\\nvalue = [0, 0, 0, 0, 0, 0, 0, 0, 0, 0, 1, 0, 1, 1\\n0, 1, 0, 1, 0, 0, 0, 0, 0, 0, 0, 0, 0, 0\\n1, 0, 0, 0, 0, 0, 0, 0, 0, 1, 1, 0, 0, 1\\n0, 0]'),\n",
       " Text(0.782608695652174, 0.17045454545454544, 'gini = 0.0\\nsamples = 1\\nvalue = [0, 0, 0, 0, 0, 0, 0, 0, 0, 0, 0, 0, 0, 0\\n0, 0, 0, 0, 0, 0, 0, 0, 0, 0, 0, 0, 0, 0\\n1, 0, 0, 0, 0, 0, 0, 0, 0, 0, 0, 0, 0, 0\\n0, 0]'),\n",
       " Text(0.8260869565217391, 0.17045454545454544, 'x[3] <= 40014.957\\ngini = 0.875\\nsamples = 8\\nvalue = [0, 0, 0, 0, 0, 0, 0, 0, 0, 0, 1, 0, 1, 1\\n0, 1, 0, 1, 0, 0, 0, 0, 0, 0, 0, 0, 0, 0\\n0, 0, 0, 0, 0, 0, 0, 0, 0, 1, 1, 0, 0, 1\\n0, 0]'),\n",
       " Text(0.8043478260869565, 0.14772727272727273, 'gini = 0.0\\nsamples = 1\\nvalue = [0, 0, 0, 0, 0, 0, 0, 0, 0, 0, 0, 0, 0, 0\\n0, 1, 0, 0, 0, 0, 0, 0, 0, 0, 0, 0, 0, 0\\n0, 0, 0, 0, 0, 0, 0, 0, 0, 0, 0, 0, 0, 0\\n0, 0]'),\n",
       " Text(0.8478260869565217, 0.14772727272727273, 'x[1] <= 77.58\\ngini = 0.857\\nsamples = 7\\nvalue = [0, 0, 0, 0, 0, 0, 0, 0, 0, 0, 1, 0, 1, 1\\n0, 0, 0, 1, 0, 0, 0, 0, 0, 0, 0, 0, 0, 0\\n0, 0, 0, 0, 0, 0, 0, 0, 0, 1, 1, 0, 0, 1\\n0, 0]'),\n",
       " Text(0.8260869565217391, 0.125, 'gini = 0.0\\nsamples = 1\\nvalue = [0, 0, 0, 0, 0, 0, 0, 0, 0, 0, 0, 0, 0, 0\\n0, 0, 0, 0, 0, 0, 0, 0, 0, 0, 0, 0, 0, 0\\n0, 0, 0, 0, 0, 0, 0, 0, 0, 0, 1, 0, 0, 0\\n0, 0]'),\n",
       " Text(0.8695652173913043, 0.125, 'x[3] <= 41499.518\\ngini = 0.833\\nsamples = 6\\nvalue = [0, 0, 0, 0, 0, 0, 0, 0, 0, 0, 1, 0, 1, 1\\n0, 0, 0, 1, 0, 0, 0, 0, 0, 0, 0, 0, 0, 0\\n0, 0, 0, 0, 0, 0, 0, 0, 0, 1, 0, 0, 0, 1\\n0, 0]'),\n",
       " Text(0.8478260869565217, 0.10227272727272728, 'gini = 0.0\\nsamples = 1\\nvalue = [0, 0, 0, 0, 0, 0, 0, 0, 0, 0, 0, 0, 0, 0\\n0, 0, 0, 0, 0, 0, 0, 0, 0, 0, 0, 0, 0, 0\\n0, 0, 0, 0, 0, 0, 0, 0, 0, 0, 0, 0, 0, 1\\n0, 0]'),\n",
       " Text(0.8913043478260869, 0.10227272727272728, 'x[3] <= 42808.6\\ngini = 0.8\\nsamples = 5\\nvalue = [0, 0, 0, 0, 0, 0, 0, 0, 0, 0, 1, 0, 1, 1\\n0, 0, 0, 1, 0, 0, 0, 0, 0, 0, 0, 0, 0, 0\\n0, 0, 0, 0, 0, 0, 0, 0, 0, 1, 0, 0, 0, 0\\n0, 0]'),\n",
       " Text(0.8695652173913043, 0.07954545454545454, 'gini = 0.0\\nsamples = 1\\nvalue = [0, 0, 0, 0, 0, 0, 0, 0, 0, 0, 0, 0, 0, 0\\n0, 0, 0, 1, 0, 0, 0, 0, 0, 0, 0, 0, 0, 0\\n0, 0, 0, 0, 0, 0, 0, 0, 0, 0, 0, 0, 0, 0\\n0, 0]'),\n",
       " Text(0.9130434782608695, 0.07954545454545454, 'x[0] <= 12.984\\ngini = 0.75\\nsamples = 4\\nvalue = [0, 0, 0, 0, 0, 0, 0, 0, 0, 0, 1, 0, 1, 1\\n0, 0, 0, 0, 0, 0, 0, 0, 0, 0, 0, 0, 0, 0\\n0, 0, 0, 0, 0, 0, 0, 0, 0, 1, 0, 0, 0, 0\\n0, 0]'),\n",
       " Text(0.8913043478260869, 0.056818181818181816, 'gini = 0.0\\nsamples = 1\\nvalue = [0, 0, 0, 0, 0, 0, 0, 0, 0, 0, 0, 0, 0, 1\\n0, 0, 0, 0, 0, 0, 0, 0, 0, 0, 0, 0, 0, 0\\n0, 0, 0, 0, 0, 0, 0, 0, 0, 0, 0, 0, 0, 0\\n0, 0]'),\n",
       " Text(0.9347826086956522, 0.056818181818181816, 'x[3] <= 50026.855\\ngini = 0.667\\nsamples = 3\\nvalue = [0, 0, 0, 0, 0, 0, 0, 0, 0, 0, 1, 0, 1, 0\\n0, 0, 0, 0, 0, 0, 0, 0, 0, 0, 0, 0, 0, 0\\n0, 0, 0, 0, 0, 0, 0, 0, 0, 1, 0, 0, 0, 0\\n0, 0]'),\n",
       " Text(0.9130434782608695, 0.03409090909090909, 'gini = 0.0\\nsamples = 1\\nvalue = [0, 0, 0, 0, 0, 0, 0, 0, 0, 0, 0, 0, 1, 0\\n0, 0, 0, 0, 0, 0, 0, 0, 0, 0, 0, 0, 0, 0\\n0, 0, 0, 0, 0, 0, 0, 0, 0, 0, 0, 0, 0, 0\\n0, 0]'),\n",
       " Text(0.9565217391304348, 0.03409090909090909, 'x[1] <= 77.63\\ngini = 0.5\\nsamples = 2\\nvalue = [0, 0, 0, 0, 0, 0, 0, 0, 0, 0, 1, 0, 0, 0\\n0, 0, 0, 0, 0, 0, 0, 0, 0, 0, 0, 0, 0, 0\\n0, 0, 0, 0, 0, 0, 0, 0, 0, 1, 0, 0, 0, 0\\n0, 0]'),\n",
       " Text(0.9347826086956522, 0.011363636363636364, 'gini = 0.0\\nsamples = 1\\nvalue = [0, 0, 0, 0, 0, 0, 0, 0, 0, 0, 0, 0, 0, 0\\n0, 0, 0, 0, 0, 0, 0, 0, 0, 0, 0, 0, 0, 0\\n0, 0, 0, 0, 0, 0, 0, 0, 0, 1, 0, 0, 0, 0\\n0, 0]'),\n",
       " Text(0.9782608695652174, 0.011363636363636364, 'gini = 0.0\\nsamples = 1\\nvalue = [0, 0, 0, 0, 0, 0, 0, 0, 0, 0, 1, 0, 0, 0\\n0, 0, 0, 0, 0, 0, 0, 0, 0, 0, 0, 0, 0, 0\\n0, 0, 0, 0, 0, 0, 0, 0, 0, 0, 0, 0, 0, 0\\n0, 0]')]"
      ]
     },
     "execution_count": 115,
     "metadata": {},
     "output_type": "execute_result"
    },
    {
     "data": {
      "image/png": "[encoded data removed]",
      "text/plain": [
       "<Figure size 640x480 with 1 Axes>"
      ]
     },
     "metadata": {},
     "output_type": "display_data"
    }
   ],
   "source": [
    "tree.plot_tree(clf)"
   ]
  },
  {
   "cell_type": "code",
   "execution_count": 116,
   "id": "57448bfd",
   "metadata": {},
   "outputs": [
    {
     "data": {
      "text/plain": [
       "array(['Mahalakshmi Layout', 'Malleswaram', 'Mathikere', 'Gottigere',\n",
       "       'R. T. Nagar', 'Anjanapura', 'Mathikere', 'Banaswadi', 'Hebbal',\n",
       "       'Domlur', 'R. T. Nagar', 'Mathikere', 'J. P. Nagar', 'Peenya',\n",
       "       'Vijayanagar', 'Gottigere', 'Peenya', 'Gottigere', 'Uttarahalli',\n",
       "       'Varthur'], dtype=object)"
      ]
     },
     "execution_count": 116,
     "metadata": {},
     "output_type": "execute_result"
    }
   ],
   "source": [
    "pred1= clf.predict(x_test)\n",
    "pred1"
   ]
  },
  {
   "cell_type": "code",
   "execution_count": 117,
   "id": "09384375",
   "metadata": {},
   "outputs": [
    {
     "data": {
      "text/plain": [
       "array([[0, 0, 0, ..., 0, 0, 0],\n",
       "       [0, 0, 0, ..., 0, 0, 0],\n",
       "       [0, 0, 0, ..., 0, 0, 0],\n",
       "       ...,\n",
       "       [0, 0, 0, ..., 0, 0, 0],\n",
       "       [0, 0, 0, ..., 0, 0, 0],\n",
       "       [0, 0, 0, ..., 0, 0, 0]], dtype=int64)"
      ]
     },
     "execution_count": 117,
     "metadata": {},
     "output_type": "execute_result"
    }
   ],
   "source": [
    "result =confusion_matrix(y_test,pred1)\n",
    "result"
   ]
  },
  {
   "cell_type": "code",
   "execution_count": 118,
   "id": "9a163f27",
   "metadata": {},
   "outputs": [],
   "source": [
    "from sklearn.ensemble import RandomForestClassifier"
   ]
  },
  {
   "cell_type": "code",
   "execution_count": 119,
   "id": "972a046a",
   "metadata": {},
   "outputs": [],
   "source": [
    "model2 = RandomForestClassifier(criterion='gini')\n",
    "clf2 = model2.fit(x_train,y_train)"
   ]
  },
  {
   "cell_type": "code",
   "execution_count": 120,
   "id": "ae64fb77",
   "metadata": {},
   "outputs": [
    {
     "data": {
      "text/plain": [
       "array(['Mathikere', 'Malleswaram', 'Kumaraswamy Layout', 'Kothnur',\n",
       "       'R. T. Nagar', 'Jeevanbheemanagar', 'Kothnur', 'Hoodi',\n",
       "       'Jeevanbheemanagar', 'Domlur', 'Rajarajeshwari Nagar',\n",
       "       'Lingarajapuram', 'J. P. Nagar', 'Kengeri', 'Kamakshipalya',\n",
       "       'HSR Layout', 'Mathikere', 'HSR Layout', 'Uttarahalli',\n",
       "       'Banaswadi'], dtype=object)"
      ]
     },
     "execution_count": 120,
     "metadata": {},
     "output_type": "execute_result"
    }
   ],
   "source": [
    "pred2 = clf2.predict(x_test)\n",
    "pred2"
   ]
  },
  {
   "cell_type": "code",
   "execution_count": 121,
   "id": "b947fc69",
   "metadata": {
    "collapsed": true
   },
   "outputs": [
    {
     "data": {
      "text/plain": [
       "array([[0, 0, 0, ..., 0, 0, 0],\n",
       "       [0, 0, 0, ..., 0, 0, 0],\n",
       "       [0, 0, 0, ..., 0, 0, 0],\n",
       "       ...,\n",
       "       [0, 0, 0, ..., 0, 0, 0],\n",
       "       [0, 0, 0, ..., 0, 0, 0],\n",
       "       [0, 0, 0, ..., 0, 0, 0]], dtype=int64)"
      ]
     },
     "execution_count": 121,
     "metadata": {},
     "output_type": "execute_result"
    }
   ],
   "source": [
    "result2 = confusion_matrix(y_test,pred2)\n",
    "result2"
   ]
  },
  {
   "cell_type": "code",
   "execution_count": 122,
   "id": "28b727fb",
   "metadata": {
    "collapsed": true
   },
   "outputs": [
    {
     "ename": "ValueError",
     "evalue": "The number of FixedLocator locations (36), usually from a call to set_ticks, does not match the number of labels (44).",
     "output_type": "error",
     "traceback": [
      "\u001b[1;31m---------------------------------------------------------------------------\u001b[0m",
      "\u001b[1;31mValueError\u001b[0m                                Traceback (most recent call last)",
      "Cell \u001b[1;32mIn[122], line 1\u001b[0m\n\u001b[1;32m----> 1\u001b[0m \u001b[43mConfusionMatrixDisplay\u001b[49m\u001b[43m(\u001b[49m\u001b[43mresult2\u001b[49m\u001b[43m,\u001b[49m\u001b[43mdisplay_labels\u001b[49m\u001b[43m \u001b[49m\u001b[38;5;241;43m=\u001b[39;49m\u001b[43m \u001b[49m\u001b[43mclf2\u001b[49m\u001b[38;5;241;43m.\u001b[39;49m\u001b[43mclasses_\u001b[49m\u001b[43m)\u001b[49m\u001b[38;5;241;43m.\u001b[39;49m\u001b[43mplot\u001b[49m\u001b[43m(\u001b[49m\u001b[43m)\u001b[49m\n\u001b[0;32m      2\u001b[0m plt\u001b[38;5;241m.\u001b[39mshow\n",
      "File \u001b[1;32m~\\.conda\\lib\\site-packages\\sklearn\\metrics\\_plot\\confusion_matrix.py:181\u001b[0m, in \u001b[0;36mConfusionMatrixDisplay.plot\u001b[1;34m(self, include_values, cmap, xticks_rotation, values_format, ax, colorbar, im_kw, text_kw)\u001b[0m\n\u001b[0;32m    179\u001b[0m \u001b[38;5;28;01mif\u001b[39;00m colorbar:\n\u001b[0;32m    180\u001b[0m     fig\u001b[38;5;241m.\u001b[39mcolorbar(\u001b[38;5;28mself\u001b[39m\u001b[38;5;241m.\u001b[39mim_, ax\u001b[38;5;241m=\u001b[39max)\n\u001b[1;32m--> 181\u001b[0m \u001b[43max\u001b[49m\u001b[38;5;241;43m.\u001b[39;49m\u001b[43mset\u001b[49m\u001b[43m(\u001b[49m\n\u001b[0;32m    182\u001b[0m \u001b[43m    \u001b[49m\u001b[43mxticks\u001b[49m\u001b[38;5;241;43m=\u001b[39;49m\u001b[43mnp\u001b[49m\u001b[38;5;241;43m.\u001b[39;49m\u001b[43marange\u001b[49m\u001b[43m(\u001b[49m\u001b[43mn_classes\u001b[49m\u001b[43m)\u001b[49m\u001b[43m,\u001b[49m\n\u001b[0;32m    183\u001b[0m \u001b[43m    \u001b[49m\u001b[43myticks\u001b[49m\u001b[38;5;241;43m=\u001b[39;49m\u001b[43mnp\u001b[49m\u001b[38;5;241;43m.\u001b[39;49m\u001b[43marange\u001b[49m\u001b[43m(\u001b[49m\u001b[43mn_classes\u001b[49m\u001b[43m)\u001b[49m\u001b[43m,\u001b[49m\n\u001b[0;32m    184\u001b[0m \u001b[43m    \u001b[49m\u001b[43mxticklabels\u001b[49m\u001b[38;5;241;43m=\u001b[39;49m\u001b[43mdisplay_labels\u001b[49m\u001b[43m,\u001b[49m\n\u001b[0;32m    185\u001b[0m \u001b[43m    \u001b[49m\u001b[43myticklabels\u001b[49m\u001b[38;5;241;43m=\u001b[39;49m\u001b[43mdisplay_labels\u001b[49m\u001b[43m,\u001b[49m\n\u001b[0;32m    186\u001b[0m \u001b[43m    \u001b[49m\u001b[43mylabel\u001b[49m\u001b[38;5;241;43m=\u001b[39;49m\u001b[38;5;124;43m\"\u001b[39;49m\u001b[38;5;124;43mTrue label\u001b[39;49m\u001b[38;5;124;43m\"\u001b[39;49m\u001b[43m,\u001b[49m\n\u001b[0;32m    187\u001b[0m \u001b[43m    \u001b[49m\u001b[43mxlabel\u001b[49m\u001b[38;5;241;43m=\u001b[39;49m\u001b[38;5;124;43m\"\u001b[39;49m\u001b[38;5;124;43mPredicted label\u001b[39;49m\u001b[38;5;124;43m\"\u001b[39;49m\u001b[43m,\u001b[49m\n\u001b[0;32m    188\u001b[0m \u001b[43m\u001b[49m\u001b[43m)\u001b[49m\n\u001b[0;32m    190\u001b[0m ax\u001b[38;5;241m.\u001b[39mset_ylim((n_classes \u001b[38;5;241m-\u001b[39m \u001b[38;5;241m0.5\u001b[39m, \u001b[38;5;241m-\u001b[39m\u001b[38;5;241m0.5\u001b[39m))\n\u001b[0;32m    191\u001b[0m plt\u001b[38;5;241m.\u001b[39msetp(ax\u001b[38;5;241m.\u001b[39mget_xticklabels(), rotation\u001b[38;5;241m=\u001b[39mxticks_rotation)\n",
      "File \u001b[1;32m~\\.conda\\lib\\site-packages\\matplotlib\\artist.py:147\u001b[0m, in \u001b[0;36mArtist.__init_subclass__.<locals>.<lambda>\u001b[1;34m(self, **kwargs)\u001b[0m\n\u001b[0;32m    139\u001b[0m \u001b[38;5;28;01mif\u001b[39;00m \u001b[38;5;129;01mnot\u001b[39;00m \u001b[38;5;28mhasattr\u001b[39m(\u001b[38;5;28mcls\u001b[39m\u001b[38;5;241m.\u001b[39mset, \u001b[38;5;124m'\u001b[39m\u001b[38;5;124m_autogenerated_signature\u001b[39m\u001b[38;5;124m'\u001b[39m):\n\u001b[0;32m    140\u001b[0m     \u001b[38;5;66;03m# Don't overwrite cls.set if the subclass or one of its parents\u001b[39;00m\n\u001b[0;32m    141\u001b[0m     \u001b[38;5;66;03m# has defined a set method set itself.\u001b[39;00m\n\u001b[0;32m    142\u001b[0m     \u001b[38;5;66;03m# If there was no explicit definition, cls.set is inherited from\u001b[39;00m\n\u001b[0;32m    143\u001b[0m     \u001b[38;5;66;03m# the hierarchy of auto-generated set methods, which hold the\u001b[39;00m\n\u001b[0;32m    144\u001b[0m     \u001b[38;5;66;03m# flag _autogenerated_signature.\u001b[39;00m\n\u001b[0;32m    145\u001b[0m     \u001b[38;5;28;01mreturn\u001b[39;00m\n\u001b[1;32m--> 147\u001b[0m \u001b[38;5;28mcls\u001b[39m\u001b[38;5;241m.\u001b[39mset \u001b[38;5;241m=\u001b[39m \u001b[38;5;28;01mlambda\u001b[39;00m \u001b[38;5;28mself\u001b[39m, \u001b[38;5;241m*\u001b[39m\u001b[38;5;241m*\u001b[39mkwargs: Artist\u001b[38;5;241m.\u001b[39mset(\u001b[38;5;28mself\u001b[39m, \u001b[38;5;241m*\u001b[39m\u001b[38;5;241m*\u001b[39mkwargs)\n\u001b[0;32m    148\u001b[0m \u001b[38;5;28mcls\u001b[39m\u001b[38;5;241m.\u001b[39mset\u001b[38;5;241m.\u001b[39m\u001b[38;5;18m__name__\u001b[39m \u001b[38;5;241m=\u001b[39m \u001b[38;5;124m\"\u001b[39m\u001b[38;5;124mset\u001b[39m\u001b[38;5;124m\"\u001b[39m\n\u001b[0;32m    149\u001b[0m \u001b[38;5;28mcls\u001b[39m\u001b[38;5;241m.\u001b[39mset\u001b[38;5;241m.\u001b[39m\u001b[38;5;18m__qualname__\u001b[39m \u001b[38;5;241m=\u001b[39m \u001b[38;5;124mf\u001b[39m\u001b[38;5;124m\"\u001b[39m\u001b[38;5;132;01m{\u001b[39;00m\u001b[38;5;28mcls\u001b[39m\u001b[38;5;241m.\u001b[39m\u001b[38;5;18m__qualname__\u001b[39m\u001b[38;5;132;01m}\u001b[39;00m\u001b[38;5;124m.set\u001b[39m\u001b[38;5;124m\"\u001b[39m\n",
      "File \u001b[1;32m~\\.conda\\lib\\site-packages\\matplotlib\\artist.py:1231\u001b[0m, in \u001b[0;36mArtist.set\u001b[1;34m(self, **kwargs)\u001b[0m\n\u001b[0;32m   1227\u001b[0m \u001b[38;5;28;01mdef\u001b[39;00m \u001b[38;5;21mset\u001b[39m(\u001b[38;5;28mself\u001b[39m, \u001b[38;5;241m*\u001b[39m\u001b[38;5;241m*\u001b[39mkwargs):\n\u001b[0;32m   1228\u001b[0m     \u001b[38;5;66;03m# docstring and signature are auto-generated via\u001b[39;00m\n\u001b[0;32m   1229\u001b[0m     \u001b[38;5;66;03m# Artist._update_set_signature_and_docstring() at the end of the\u001b[39;00m\n\u001b[0;32m   1230\u001b[0m     \u001b[38;5;66;03m# module.\u001b[39;00m\n\u001b[1;32m-> 1231\u001b[0m     \u001b[38;5;28;01mreturn\u001b[39;00m \u001b[38;5;28;43mself\u001b[39;49m\u001b[38;5;241;43m.\u001b[39;49m\u001b[43m_internal_update\u001b[49m\u001b[43m(\u001b[49m\u001b[43mcbook\u001b[49m\u001b[38;5;241;43m.\u001b[39;49m\u001b[43mnormalize_kwargs\u001b[49m\u001b[43m(\u001b[49m\u001b[43mkwargs\u001b[49m\u001b[43m,\u001b[49m\u001b[43m \u001b[49m\u001b[38;5;28;43mself\u001b[39;49m\u001b[43m)\u001b[49m\u001b[43m)\u001b[49m\n",
      "File \u001b[1;32m~\\.conda\\lib\\site-packages\\matplotlib\\artist.py:1223\u001b[0m, in \u001b[0;36mArtist._internal_update\u001b[1;34m(self, kwargs)\u001b[0m\n\u001b[0;32m   1216\u001b[0m \u001b[38;5;28;01mdef\u001b[39;00m \u001b[38;5;21m_internal_update\u001b[39m(\u001b[38;5;28mself\u001b[39m, kwargs):\n\u001b[0;32m   1217\u001b[0m     \u001b[38;5;124;03m\"\"\"\u001b[39;00m\n\u001b[0;32m   1218\u001b[0m \u001b[38;5;124;03m    Update artist properties without prenormalizing them, but generating\u001b[39;00m\n\u001b[0;32m   1219\u001b[0m \u001b[38;5;124;03m    errors as if calling `set`.\u001b[39;00m\n\u001b[0;32m   1220\u001b[0m \n\u001b[0;32m   1221\u001b[0m \u001b[38;5;124;03m    The lack of prenormalization is to maintain backcompatibility.\u001b[39;00m\n\u001b[0;32m   1222\u001b[0m \u001b[38;5;124;03m    \"\"\"\u001b[39;00m\n\u001b[1;32m-> 1223\u001b[0m     \u001b[38;5;28;01mreturn\u001b[39;00m \u001b[38;5;28;43mself\u001b[39;49m\u001b[38;5;241;43m.\u001b[39;49m\u001b[43m_update_props\u001b[49m\u001b[43m(\u001b[49m\n\u001b[0;32m   1224\u001b[0m \u001b[43m        \u001b[49m\u001b[43mkwargs\u001b[49m\u001b[43m,\u001b[49m\u001b[43m \u001b[49m\u001b[38;5;124;43m\"\u001b[39;49m\u001b[38;5;132;43;01m{cls.__name__}\u001b[39;49;00m\u001b[38;5;124;43m.set() got an unexpected keyword argument \u001b[39;49m\u001b[38;5;124;43m\"\u001b[39;49m\n\u001b[0;32m   1225\u001b[0m \u001b[43m        \u001b[49m\u001b[38;5;124;43m\"\u001b[39;49m\u001b[38;5;132;43;01m{prop_name!r}\u001b[39;49;00m\u001b[38;5;124;43m\"\u001b[39;49m\u001b[43m)\u001b[49m\n",
      "File \u001b[1;32m~\\.conda\\lib\\site-packages\\matplotlib\\artist.py:1199\u001b[0m, in \u001b[0;36mArtist._update_props\u001b[1;34m(self, props, errfmt)\u001b[0m\n\u001b[0;32m   1196\u001b[0m             \u001b[38;5;28;01mif\u001b[39;00m \u001b[38;5;129;01mnot\u001b[39;00m callable(func):\n\u001b[0;32m   1197\u001b[0m                 \u001b[38;5;28;01mraise\u001b[39;00m \u001b[38;5;167;01mAttributeError\u001b[39;00m(\n\u001b[0;32m   1198\u001b[0m                     errfmt\u001b[38;5;241m.\u001b[39mformat(\u001b[38;5;28mcls\u001b[39m\u001b[38;5;241m=\u001b[39m\u001b[38;5;28mtype\u001b[39m(\u001b[38;5;28mself\u001b[39m), prop_name\u001b[38;5;241m=\u001b[39mk))\n\u001b[1;32m-> 1199\u001b[0m             ret\u001b[38;5;241m.\u001b[39mappend(\u001b[43mfunc\u001b[49m\u001b[43m(\u001b[49m\u001b[43mv\u001b[49m\u001b[43m)\u001b[49m)\n\u001b[0;32m   1200\u001b[0m \u001b[38;5;28;01mif\u001b[39;00m ret:\n\u001b[0;32m   1201\u001b[0m     \u001b[38;5;28mself\u001b[39m\u001b[38;5;241m.\u001b[39mpchanged()\n",
      "File \u001b[1;32m~\\.conda\\lib\\site-packages\\matplotlib\\axes\\_base.py:74\u001b[0m, in \u001b[0;36m_axis_method_wrapper.__set_name__.<locals>.wrapper\u001b[1;34m(self, *args, **kwargs)\u001b[0m\n\u001b[0;32m     73\u001b[0m \u001b[38;5;28;01mdef\u001b[39;00m \u001b[38;5;21mwrapper\u001b[39m(\u001b[38;5;28mself\u001b[39m, \u001b[38;5;241m*\u001b[39margs, \u001b[38;5;241m*\u001b[39m\u001b[38;5;241m*\u001b[39mkwargs):\n\u001b[1;32m---> 74\u001b[0m     \u001b[38;5;28;01mreturn\u001b[39;00m get_method(\u001b[38;5;28mself\u001b[39m)(\u001b[38;5;241m*\u001b[39margs, \u001b[38;5;241m*\u001b[39m\u001b[38;5;241m*\u001b[39mkwargs)\n",
      "File \u001b[1;32m~\\.conda\\lib\\site-packages\\matplotlib\\_api\\deprecation.py:297\u001b[0m, in \u001b[0;36mrename_parameter.<locals>.wrapper\u001b[1;34m(*args, **kwargs)\u001b[0m\n\u001b[0;32m    292\u001b[0m     warn_deprecated(\n\u001b[0;32m    293\u001b[0m         since, message\u001b[38;5;241m=\u001b[39m\u001b[38;5;124mf\u001b[39m\u001b[38;5;124m\"\u001b[39m\u001b[38;5;124mThe \u001b[39m\u001b[38;5;132;01m{\u001b[39;00mold\u001b[38;5;132;01m!r}\u001b[39;00m\u001b[38;5;124m parameter of \u001b[39m\u001b[38;5;132;01m{\u001b[39;00mfunc\u001b[38;5;241m.\u001b[39m\u001b[38;5;18m__name__\u001b[39m\u001b[38;5;132;01m}\u001b[39;00m\u001b[38;5;124m() \u001b[39m\u001b[38;5;124m\"\u001b[39m\n\u001b[0;32m    294\u001b[0m         \u001b[38;5;124mf\u001b[39m\u001b[38;5;124m\"\u001b[39m\u001b[38;5;124mhas been renamed \u001b[39m\u001b[38;5;132;01m{\u001b[39;00mnew\u001b[38;5;132;01m!r}\u001b[39;00m\u001b[38;5;124m since Matplotlib \u001b[39m\u001b[38;5;132;01m{\u001b[39;00msince\u001b[38;5;132;01m}\u001b[39;00m\u001b[38;5;124m; support \u001b[39m\u001b[38;5;124m\"\u001b[39m\n\u001b[0;32m    295\u001b[0m         \u001b[38;5;124mf\u001b[39m\u001b[38;5;124m\"\u001b[39m\u001b[38;5;124mfor the old name will be dropped %(removal)s.\u001b[39m\u001b[38;5;124m\"\u001b[39m)\n\u001b[0;32m    296\u001b[0m     kwargs[new] \u001b[38;5;241m=\u001b[39m kwargs\u001b[38;5;241m.\u001b[39mpop(old)\n\u001b[1;32m--> 297\u001b[0m \u001b[38;5;28;01mreturn\u001b[39;00m func(\u001b[38;5;241m*\u001b[39margs, \u001b[38;5;241m*\u001b[39m\u001b[38;5;241m*\u001b[39mkwargs)\n",
      "File \u001b[1;32m~\\.conda\\lib\\site-packages\\matplotlib\\axis.py:1973\u001b[0m, in \u001b[0;36mAxis.set_ticklabels\u001b[1;34m(self, labels, minor, fontdict, **kwargs)\u001b[0m\n\u001b[0;32m   1969\u001b[0m \u001b[38;5;28;01mif\u001b[39;00m \u001b[38;5;28misinstance\u001b[39m(locator, mticker\u001b[38;5;241m.\u001b[39mFixedLocator):\n\u001b[0;32m   1970\u001b[0m     \u001b[38;5;66;03m# Passing [] as a list of labels is often used as a way to\u001b[39;00m\n\u001b[0;32m   1971\u001b[0m     \u001b[38;5;66;03m# remove all tick labels, so only error for > 0 labels\u001b[39;00m\n\u001b[0;32m   1972\u001b[0m     \u001b[38;5;28;01mif\u001b[39;00m \u001b[38;5;28mlen\u001b[39m(locator\u001b[38;5;241m.\u001b[39mlocs) \u001b[38;5;241m!=\u001b[39m \u001b[38;5;28mlen\u001b[39m(labels) \u001b[38;5;129;01mand\u001b[39;00m \u001b[38;5;28mlen\u001b[39m(labels) \u001b[38;5;241m!=\u001b[39m \u001b[38;5;241m0\u001b[39m:\n\u001b[1;32m-> 1973\u001b[0m         \u001b[38;5;28;01mraise\u001b[39;00m \u001b[38;5;167;01mValueError\u001b[39;00m(\n\u001b[0;32m   1974\u001b[0m             \u001b[38;5;124m\"\u001b[39m\u001b[38;5;124mThe number of FixedLocator locations\u001b[39m\u001b[38;5;124m\"\u001b[39m\n\u001b[0;32m   1975\u001b[0m             \u001b[38;5;124mf\u001b[39m\u001b[38;5;124m\"\u001b[39m\u001b[38;5;124m (\u001b[39m\u001b[38;5;132;01m{\u001b[39;00m\u001b[38;5;28mlen\u001b[39m(locator\u001b[38;5;241m.\u001b[39mlocs)\u001b[38;5;132;01m}\u001b[39;00m\u001b[38;5;124m), usually from a call to\u001b[39m\u001b[38;5;124m\"\u001b[39m\n\u001b[0;32m   1976\u001b[0m             \u001b[38;5;124m\"\u001b[39m\u001b[38;5;124m set_ticks, does not match\u001b[39m\u001b[38;5;124m\"\u001b[39m\n\u001b[0;32m   1977\u001b[0m             \u001b[38;5;124mf\u001b[39m\u001b[38;5;124m\"\u001b[39m\u001b[38;5;124m the number of labels (\u001b[39m\u001b[38;5;132;01m{\u001b[39;00m\u001b[38;5;28mlen\u001b[39m(labels)\u001b[38;5;132;01m}\u001b[39;00m\u001b[38;5;124m).\u001b[39m\u001b[38;5;124m\"\u001b[39m)\n\u001b[0;32m   1978\u001b[0m     tickd \u001b[38;5;241m=\u001b[39m {loc: lab \u001b[38;5;28;01mfor\u001b[39;00m loc, lab \u001b[38;5;129;01min\u001b[39;00m \u001b[38;5;28mzip\u001b[39m(locator\u001b[38;5;241m.\u001b[39mlocs, labels)}\n\u001b[0;32m   1979\u001b[0m     func \u001b[38;5;241m=\u001b[39m functools\u001b[38;5;241m.\u001b[39mpartial(\u001b[38;5;28mself\u001b[39m\u001b[38;5;241m.\u001b[39m_format_with_dict, tickd)\n",
      "\u001b[1;31mValueError\u001b[0m: The number of FixedLocator locations (36), usually from a call to set_ticks, does not match the number of labels (44)."
     ]
    },
    {
     "data": {
      "image/png": "[encoded data removed]",
      "text/plain": [
       "<Figure size 640x480 with 2 Axes>"
      ]
     },
     "metadata": {},
     "output_type": "display_data"
    }
   ],
   "source": [
    "ConfusionMatrixDisplay(result2,display_labels = clf2.classes_).plot()\n",
    "plt.show"
   ]
  },
  {
   "cell_type": "code",
   "execution_count": 123,
   "id": "0ba7be45",
   "metadata": {},
   "outputs": [
    {
     "data": {
      "text/plain": [
       "array([0.22972613, 0.26927874, 0.24041043, 0.2605847 ])"
      ]
     },
     "execution_count": 123,
     "metadata": {},
     "output_type": "execute_result"
    }
   ],
   "source": [
    "clf2.feature_importances_"
   ]
  },
  {
   "cell_type": "code",
   "execution_count": 124,
   "id": "f069a23b",
   "metadata": {},
   "outputs": [
    {
     "data": {
      "text/plain": [
       "<Axes: >"
      ]
     },
     "execution_count": 124,
     "metadata": {},
     "output_type": "execute_result"
    },
    {
     "data": {
      "image/png": "[encoded data removed]",
      "text/plain": [
       "<Figure size 640x480 with 1 Axes>"
      ]
     },
     "metadata": {},
     "output_type": "display_data"
    }
   ],
   "source": [
    "feat_impt = pd.Series(clf2.feature_importances_, index = x.columns)\n",
    "feat_impt.plot(kind = 'barh')"
   ]
  },
  {
   "cell_type": "code",
   "execution_count": 125,
   "id": "e51e0367",
   "metadata": {},
   "outputs": [
    {
     "data": {
      "text/html": [
       "<div>\n",
       "<style scoped>\n",
       "    .dataframe tbody tr th:only-of-type {\n",
       "        vertical-align: middle;\n",
       "    }\n",
       "\n",
       "    .dataframe tbody tr th {\n",
       "        vertical-align: top;\n",
       "    }\n",
       "\n",
       "    .dataframe thead th {\n",
       "        text-align: right;\n",
       "    }\n",
       "</style>\n",
       "<table border=\"1\" class=\"dataframe\">\n",
       "  <thead>\n",
       "    <tr style=\"text-align: right;\">\n",
       "      <th></th>\n",
       "      <th>Latitude</th>\n",
       "      <th>Longitude</th>\n",
       "      <th>Population</th>\n",
       "      <th>AverageIncome</th>\n",
       "    </tr>\n",
       "  </thead>\n",
       "  <tbody>\n",
       "    <tr>\n",
       "      <th>Latitude</th>\n",
       "      <td>1.000000</td>\n",
       "      <td>-0.079944</td>\n",
       "      <td>-0.024384</td>\n",
       "      <td>0.034664</td>\n",
       "    </tr>\n",
       "    <tr>\n",
       "      <th>Longitude</th>\n",
       "      <td>-0.079944</td>\n",
       "      <td>1.000000</td>\n",
       "      <td>-0.178439</td>\n",
       "      <td>-0.027505</td>\n",
       "    </tr>\n",
       "    <tr>\n",
       "      <th>Population</th>\n",
       "      <td>-0.024384</td>\n",
       "      <td>-0.178439</td>\n",
       "      <td>1.000000</td>\n",
       "      <td>0.014324</td>\n",
       "    </tr>\n",
       "    <tr>\n",
       "      <th>AverageIncome</th>\n",
       "      <td>0.034664</td>\n",
       "      <td>-0.027505</td>\n",
       "      <td>0.014324</td>\n",
       "      <td>1.000000</td>\n",
       "    </tr>\n",
       "  </tbody>\n",
       "</table>\n",
       "</div>"
      ],
      "text/plain": [
       "               Latitude  Longitude  Population  AverageIncome\n",
       "Latitude       1.000000  -0.079944   -0.024384       0.034664\n",
       "Longitude     -0.079944   1.000000   -0.178439      -0.027505\n",
       "Population    -0.024384  -0.178439    1.000000       0.014324\n",
       "AverageIncome  0.034664  -0.027505    0.014324       1.000000"
      ]
     },
     "execution_count": 125,
     "metadata": {},
     "output_type": "execute_result"
    }
   ],
   "source": [
    "x.corr()"
   ]
  },
  {
   "cell_type": "markdown",
   "id": "b5630652",
   "metadata": {},
   "source": [
    "# Exploratory Data Analysis"
   ]
  },
  {
   "cell_type": "code",
   "execution_count": 127,
   "id": "bc8928cf",
   "metadata": {},
   "outputs": [
    {
     "data": {
      "text/plain": [
       "<seaborn.axisgrid.FacetGrid at 0x1d3019dabf0>"
      ]
     },
     "execution_count": 127,
     "metadata": {},
     "output_type": "execute_result"
    },
    {
     "data": {
      "image/png": "[encoded data removed]",
      "text/plain": [
       "<Figure size 500x500 with 1 Axes>"
      ]
     },
     "metadata": {},
     "output_type": "display_data"
    }
   ],
   "source": [
    "sns.displot(x='Longitude',data=data,kde=True,bins=15)"
   ]
  },
  {
   "cell_type": "code",
   "execution_count": 128,
   "id": "08a6a3cc",
   "metadata": {},
   "outputs": [
    {
     "data": {
      "image/png": "[encoded data removed]",
      "text/plain": [
       "<Figure size 640x480 with 1 Axes>"
      ]
     },
     "metadata": {},
     "output_type": "display_data"
    }
   ],
   "source": [
    "sns.countplot(x='Borough',data=data,palette='coolwarm');"
   ]
  },
  {
   "cell_type": "code",
   "execution_count": 129,
   "id": "4a4fc6de",
   "metadata": {},
   "outputs": [
    {
     "data": {
      "text/plain": [
       "<Axes: xlabel='Population', ylabel='Density'>"
      ]
     },
     "execution_count": 129,
     "metadata": {},
     "output_type": "execute_result"
    },
    {
     "data": {
      "image/png": "[encoded data removed]",
      "text/plain": [
       "<Figure size 640x480 with 1 Axes>"
      ]
     },
     "metadata": {},
     "output_type": "display_data"
    }
   ],
   "source": [
    "sns.kdeplot(data.Population, fill=True)"
   ]
  },
  {
   "cell_type": "raw",
   "id": "70fb19f3",
   "metadata": {},
   "source": [
    "# Here, according to the data ,we see that different algoritham to use to predict the data,this is the Coursera location and population based data.we choose the linear regression, Decision tree and random forest,clustering,EDI to showing the data different different way."
   ]
  },
  {
   "cell_type": "markdown",
   "id": "273cff59",
   "metadata": {},
   "source": [
    "# Thank you for reviewing !"
   ]
  }
 ],
 "metadata": {
  "kernelspec": {
   "display_name": "Python 3 (ipykernel)",
   "language": "python",
   "name": "python3"
  },
  "language_info": {
   "codemirror_mode": {
    "name": "ipython",
    "version": 3
   },
   "file_extension": ".py",
   "mimetype": "text/x-python",
   "name": "python",
   "nbconvert_exporter": "python",
   "pygments_lexer": "ipython3",
   "version": "3.10.9"
  }
 },
 "nbformat": 4,
 "nbformat_minor": 5
}
